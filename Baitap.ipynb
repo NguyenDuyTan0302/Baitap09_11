{
  "nbformat": 4,
  "nbformat_minor": 0,
  "metadata": {
    "colab": {
      "name": "Baitap.ipynb",
      "provenance": [],
      "authorship_tag": "ABX9TyPgD/Fsd4g0qTzVC4XO/Xru",
      "include_colab_link": true
    },
    "kernelspec": {
      "name": "python3",
      "display_name": "Python 3"
    },
    "language_info": {
      "name": "python"
    }
  },
  "cells": [
    {
      "cell_type": "markdown",
      "metadata": {
        "id": "view-in-github",
        "colab_type": "text"
      },
      "source": [
        "<a href=\"https://colab.research.google.com/github/NguyenDuyTan0302/Baitap09_11/blob/main/Baitap.ipynb\" target=\"_parent\"><img src=\"https://colab.research.google.com/assets/colab-badge.svg\" alt=\"Open In Colab\"/></a>"
      ]
    },
    {
      "cell_type": "code",
      "metadata": {
        "colab": {
          "base_uri": "https://localhost:8080/"
        },
        "id": "sXAqAwlD0VEZ",
        "outputId": "9d5068d0-95d7-4e36-8982-26073a40d916"
      },
      "source": [
        "print(\"Tuân thủ quy tắc 5K để phòng chống COVID\")"
      ],
      "execution_count": 1,
      "outputs": [
        {
          "output_type": "stream",
          "name": "stdout",
          "text": [
            "Tuân thủ quy tắc 5K để phòng chống COVID\n"
          ]
        }
      ]
    }
  ]
}