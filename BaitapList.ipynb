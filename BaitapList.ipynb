{
  "nbformat": 4,
  "nbformat_minor": 0,
  "metadata": {
    "colab": {
      "name": "BaitapList.ipynb",
      "provenance": [],
      "authorship_tag": "ABX9TyNEfRdIvjtIgy/b+r8TUZA3",
      "include_colab_link": true
    },
    "kernelspec": {
      "name": "python3",
      "display_name": "Python 3"
    },
    "language_info": {
      "name": "python"
    }
  },
  "cells": [
    {
      "cell_type": "markdown",
      "metadata": {
        "id": "view-in-github",
        "colab_type": "text"
      },
      "source": [
        "<a href=\"https://colab.research.google.com/github/NguyenDuyTan0302/Baitapolop/blob/main/BaitapList.ipynb\" target=\"_parent\"><img src=\"https://colab.research.google.com/assets/colab-badge.svg\" alt=\"Open In Colab\"/></a>"
      ]
    },
    {
      "cell_type": "code",
      "metadata": {
        "colab": {
          "base_uri": "https://localhost:8080/"
        },
        "id": "zYC9mT_orFg1",
        "outputId": "b0bcb60e-89db-4b84-9e77-62d25bc9ab86"
      },
      "source": [
        "list1=['physics','chemistry',1997,2000]\n",
        "list2=[1,2,3,3,4,5,6,7]\n",
        "print(\"list[0]:\",list1[0])\n",
        "print(\"list[1:5]:\",list2[1:5])"
      ],
      "execution_count": 1,
      "outputs": [
        {
          "output_type": "stream",
          "name": "stdout",
          "text": [
            "list[0]: physics\n",
            "list[1:5]: [2, 3, 3, 4]\n"
          ]
        }
      ]
    },
    {
      "cell_type": "code",
      "metadata": {
        "colab": {
          "base_uri": "https://localhost:8080/"
        },
        "id": "whuVwIElrM4n",
        "outputId": "f9f1a234-9802-4c0d-a00a-5652415f84c2"
      },
      "source": [
        "list1=['physics','chemistry',1997,2000]\n",
        "print(\"giá trị tại phần tử 2:\",list1[2])\n",
        "list1[2]=2001\n",
        "print(\"giá trị mới tại phần tử thứ 2:\",list1[2])"
      ],
      "execution_count": 4,
      "outputs": [
        {
          "output_type": "stream",
          "name": "stdout",
          "text": [
            "giá trị tại phần tử 2: 1997\n",
            "giá trị mới tại phần tử thứ 2: 2001\n"
          ]
        }
      ]
    },
    {
      "cell_type": "code",
      "metadata": {
        "colab": {
          "base_uri": "https://localhost:8080/"
        },
        "id": "yWoyD5FFrj22",
        "outputId": "17e24f80-e24d-41a0-d5fa-cb2cc3b990b8"
      },
      "source": [
        "list1=['physics','chemistry',1997,2000]\n",
        "print(list1)\n",
        "del list1[2]\n",
        "print(\"Sau khi xóa giá trị ở phần tử thứ 2\")\n",
        "print(list1)"
      ],
      "execution_count": 5,
      "outputs": [
        {
          "output_type": "stream",
          "name": "stdout",
          "text": [
            "['physics', 'chemistry', 1997, 2000]\n",
            "Sau khi xóa giá trị ở phần tử thứ 2\n",
            "['physics', 'chemistry', 2000]\n"
          ]
        }
      ]
    },
    {
      "cell_type": "code",
      "metadata": {
        "colab": {
          "base_uri": "https://localhost:8080/"
        },
        "id": "bcZ9tTzQrmWP",
        "outputId": "5825f4a2-e6da-4b06-bfa9-017840cc5a37"
      },
      "source": [
        "L=['red','yellow','green']\n",
        "print(L[2])\n",
        "print(L[-2])\n",
        "print(L[1:])"
      ],
      "execution_count": 6,
      "outputs": [
        {
          "output_type": "stream",
          "name": "stdout",
          "text": [
            "green\n",
            "yellow\n",
            "['yellow', 'green']\n"
          ]
        }
      ]
    },
    {
      "cell_type": "code",
      "metadata": {
        "colab": {
          "base_uri": "https://localhost:8080/"
        },
        "id": "XKqZWrEorpHW",
        "outputId": "bd6d95ac-6fcf-44b5-bde6-d58bbe99a0bb"
      },
      "source": [
        "list1=[1,2,3,4,5]\n",
        "len(list1)"
      ],
      "execution_count": 8,
      "outputs": [
        {
          "output_type": "execute_result",
          "data": {
            "text/plain": [
              "5"
            ]
          },
          "metadata": {},
          "execution_count": 8
        }
      ]
    },
    {
      "cell_type": "code",
      "metadata": {
        "colab": {
          "base_uri": "https://localhost:8080/"
        },
        "id": "cQzePVv3r-Wl",
        "outputId": "f4108999-ad57-4dc3-ee5a-9510e28b81aa"
      },
      "source": [
        "list1=[1,2,3,4,5]\n",
        "list2=[6,7,8,9,10]\n",
        "list1+list2"
      ],
      "execution_count": 10,
      "outputs": [
        {
          "output_type": "execute_result",
          "data": {
            "text/plain": [
              "(1, 2, 3, 4, 5, 1, 2, 3, 4, 5, 1, 2, 3, 4, 5)"
            ]
          },
          "metadata": {},
          "execution_count": 10
        }
      ]
    },
    {
      "cell_type": "code",
      "metadata": {
        "id": "vujBK2xesJa1"
      },
      "source": [
        "list1=[1,2,3,4,5]\n",
        "list1*3"
      ],
      "execution_count": null,
      "outputs": []
    },
    {
      "cell_type": "code",
      "metadata": {
        "colab": {
          "base_uri": "https://localhost:8080/"
        },
        "id": "jvgEELkNsO0M",
        "outputId": "d075ef92-d5c8-4991-d3a5-26126ccd5b27"
      },
      "source": [
        "list1=[1,2,3,4,5]\n",
        "3 in list1"
      ],
      "execution_count": 11,
      "outputs": [
        {
          "output_type": "execute_result",
          "data": {
            "text/plain": [
              "True"
            ]
          },
          "metadata": {},
          "execution_count": 11
        }
      ]
    },
    {
      "cell_type": "code",
      "metadata": {
        "colab": {
          "base_uri": "https://localhost:8080/"
        },
        "id": "4c_E6uoGsUpE",
        "outputId": "97cf50ff-be70-4f53-e333-e3754f73dd18"
      },
      "source": [
        "list1=[1,2,3,4,5]\n",
        "for x in list1:\n",
        "   print(x)"
      ],
      "execution_count": 14,
      "outputs": [
        {
          "output_type": "stream",
          "name": "stdout",
          "text": [
            "1\n",
            "2\n",
            "3\n",
            "4\n",
            "5\n"
          ]
        }
      ]
    },
    {
      "cell_type": "code",
      "metadata": {
        "colab": {
          "base_uri": "https://localhost:8080/"
        },
        "id": "SLRHFqV6snsU",
        "outputId": "fdcae8d7-8252-44ad-a37f-578a8c2d82ac"
      },
      "source": [
        "list1=[1,2,3,4,5]\n",
        "max(list1)"
      ],
      "execution_count": 15,
      "outputs": [
        {
          "output_type": "execute_result",
          "data": {
            "text/plain": [
              "5"
            ]
          },
          "metadata": {},
          "execution_count": 15
        }
      ]
    },
    {
      "cell_type": "code",
      "metadata": {
        "colab": {
          "base_uri": "https://localhost:8080/"
        },
        "id": "6e9wTLaysstS",
        "outputId": "ab39b32c-e722-411d-9822-345f08bf7b7c"
      },
      "source": [
        "list2=[6,7,8,9,10]\n",
        "min(list2)"
      ],
      "execution_count": 16,
      "outputs": [
        {
          "output_type": "execute_result",
          "data": {
            "text/plain": [
              "6"
            ]
          },
          "metadata": {},
          "execution_count": 16
        }
      ]
    },
    {
      "cell_type": "code",
      "metadata": {
        "colab": {
          "base_uri": "https://localhost:8080/"
        },
        "id": "xgUYmayjs0jK",
        "outputId": "af07305f-24e2-4eb8-a2f1-32978512a7cc"
      },
      "source": [
        "list1=[1,2,3,4,5]\n",
        "list1.append(6)\n",
        "print(list1)"
      ],
      "execution_count": 26,
      "outputs": [
        {
          "output_type": "stream",
          "name": "stdout",
          "text": [
            "[1, 2, 3, 4, 5, 6]\n"
          ]
        }
      ]
    },
    {
      "cell_type": "code",
      "metadata": {
        "colab": {
          "base_uri": "https://localhost:8080/"
        },
        "id": "F_FI7xK-zcQt",
        "outputId": "617eab82-a610-4615-e510-774368da41cc"
      },
      "source": [
        "list1=[1,2,2,3,3,3,4,4,4,4,5,5,5,5,5]\n",
        "list1.count(4)"
      ],
      "execution_count": 27,
      "outputs": [
        {
          "output_type": "execute_result",
          "data": {
            "text/plain": [
              "4"
            ]
          },
          "metadata": {},
          "execution_count": 27
        }
      ]
    },
    {
      "cell_type": "code",
      "metadata": {
        "colab": {
          "base_uri": "https://localhost:8080/"
        },
        "id": "Kuy20YdIzvaM",
        "outputId": "747d13ff-9841-4e96-c9c1-b38971d2c342"
      },
      "source": [
        "list1=[1,2,3,4,5]\n",
        "list2=[6,7,8,9,10]\n",
        "list1.extend(list2)\n",
        "print(list1)"
      ],
      "execution_count": 28,
      "outputs": [
        {
          "output_type": "stream",
          "name": "stdout",
          "text": [
            "[1, 2, 3, 4, 5, 6, 7, 8, 9, 10]\n"
          ]
        }
      ]
    },
    {
      "cell_type": "code",
      "metadata": {
        "colab": {
          "base_uri": "https://localhost:8080/"
        },
        "id": "97AZQhcs0TPL",
        "outputId": "400dc635-d0c4-4bc3-9a1c-20327b76529e"
      },
      "source": [
        "list1=[1,2,2,3,3,3,4,4,4,4,5,5,5,5,5]\n",
        "list1.index(3)"
      ],
      "execution_count": 29,
      "outputs": [
        {
          "output_type": "execute_result",
          "data": {
            "text/plain": [
              "3"
            ]
          },
          "metadata": {},
          "execution_count": 29
        }
      ]
    },
    {
      "cell_type": "code",
      "metadata": {
        "colab": {
          "base_uri": "https://localhost:8080/"
        },
        "id": "x8lkMqiX0a7L",
        "outputId": "2d236c92-e5fc-453c-e1ca-44380f4359fd"
      },
      "source": [
        "list1=[1,2,3,4,5]\n",
        "list1.insert(3,5)\n",
        "print(list1)"
      ],
      "execution_count": 31,
      "outputs": [
        {
          "output_type": "stream",
          "name": "stdout",
          "text": [
            "[1, 2, 3, 5, 4, 5]\n"
          ]
        }
      ]
    },
    {
      "cell_type": "code",
      "metadata": {
        "colab": {
          "base_uri": "https://localhost:8080/"
        },
        "id": "ymzAkvK40kmq",
        "outputId": "9d17ee4c-7d72-47e2-8eec-29c6fe579b97"
      },
      "source": [
        "list1=[1,2,3,4,5]\n",
        "list1.remove(3)\n",
        "print(list1)"
      ],
      "execution_count": 34,
      "outputs": [
        {
          "output_type": "stream",
          "name": "stdout",
          "text": [
            "[1, 2, 4, 5]\n"
          ]
        }
      ]
    },
    {
      "cell_type": "code",
      "metadata": {
        "colab": {
          "base_uri": "https://localhost:8080/"
        },
        "id": "wRTL7zMR1BXh",
        "outputId": "c4d21671-eba5-4189-8a91-51c74c25ca01"
      },
      "source": [
        "list1=[1,4,3,2,5]\n",
        "list1.reverse()\n",
        "print(list1)"
      ],
      "execution_count": 36,
      "outputs": [
        {
          "output_type": "stream",
          "name": "stdout",
          "text": [
            "[5, 2, 3, 4, 1]\n"
          ]
        }
      ]
    },
    {
      "cell_type": "code",
      "metadata": {
        "colab": {
          "base_uri": "https://localhost:8080/"
        },
        "id": "az6ye30U2Ndf",
        "outputId": "c87907c0-d203-4c18-97ec-009db193dbcb"
      },
      "source": [
        "list1=[1,2,3,4,5]\n",
        "list1.sort()\n",
        "print(list1)"
      ],
      "execution_count": 37,
      "outputs": [
        {
          "output_type": "stream",
          "name": "stdout",
          "text": [
            "[1, 2, 3, 4, 5]\n"
          ]
        }
      ]
    }
  ]
}