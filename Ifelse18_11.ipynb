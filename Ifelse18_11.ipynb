{
  "nbformat": 4,
  "nbformat_minor": 0,
  "metadata": {
    "colab": {
      "name": "Ifelse18_11.ipynb",
      "provenance": [],
      "authorship_tag": "ABX9TyOzArI6txdhC2R9qWLfr/qB",
      "include_colab_link": true
    },
    "kernelspec": {
      "name": "python3",
      "display_name": "Python 3"
    },
    "language_info": {
      "name": "python"
    }
  },
  "cells": [
    {
      "cell_type": "markdown",
      "metadata": {
        "id": "view-in-github",
        "colab_type": "text"
      },
      "source": [
        "<a href=\"https://colab.research.google.com/github/NguyenDuyTan0302/Baitapolop/blob/main/Ifelse18_11.ipynb\" target=\"_parent\"><img src=\"https://colab.research.google.com/assets/colab-badge.svg\" alt=\"Open In Colab\"/></a>"
      ]
    },
    {
      "cell_type": "code",
      "metadata": {
        "colab": {
          "base_uri": "https://localhost:8080/"
        },
        "id": "bZc02dKKqBas",
        "outputId": "913a50bd-885b-4c53-bc64-d1f0609549fc"
      },
      "source": [
        "dtb=float(input(\"Dtb=\"))\n",
        "if (dtb>=9)and(dtb<=10):\n",
        "  print(\"Xuất sắc\")\n",
        "elif dtb>=8:\n",
        "  print(\"Giỏi\")\n",
        "elif dtb>=7:\n",
        "  print(\"Khá\")\n",
        "elif dtb>=5:\n",
        "  print(\"Trung bình\")\n",
        "elif dtb>=0:\n",
        "    print(\"Yếu\")"
      ],
      "execution_count": 3,
      "outputs": [
        {
          "output_type": "stream",
          "name": "stdout",
          "text": [
            "Dtb=4\n",
            "Yếu\n"
          ]
        }
      ]
    }
  ]
}