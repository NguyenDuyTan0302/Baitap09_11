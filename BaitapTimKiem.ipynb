{
  "nbformat": 4,
  "nbformat_minor": 0,
  "metadata": {
    "colab": {
      "name": "BaitapTimKiem.ipynb",
      "provenance": [],
      "authorship_tag": "ABX9TyMeFG3F7OaGgxR351mOGFi/",
      "include_colab_link": true
    },
    "kernelspec": {
      "name": "python3",
      "display_name": "Python 3"
    },
    "language_info": {
      "name": "python"
    }
  },
  "cells": [
    {
      "cell_type": "markdown",
      "metadata": {
        "id": "view-in-github",
        "colab_type": "text"
      },
      "source": [
        "<a href=\"https://colab.research.google.com/github/NguyenDuyTan0302/Baitapolop/blob/main/BaitapTimKiem.ipynb\" target=\"_parent\"><img src=\"https://colab.research.google.com/assets/colab-badge.svg\" alt=\"Open In Colab\"/></a>"
      ]
    },
    {
      "cell_type": "code",
      "metadata": {
        "colab": {
          "base_uri": "https://localhost:8080/"
        },
        "id": "AlC2mDztHG_p",
        "outputId": "85cadf0f-75fc-42d7-8bc1-3064efe9c5ca"
      },
      "source": [
        "import random\n",
        "check=[]\n",
        "c=[]\n",
        "n=int(input(\"n=\"))\n",
        "a=int(input(\"a=\"))\n",
        "b=int(input(\"b=\"))\n",
        "for i in range(n):\n",
        "  tam=random.randint(a,b)\n",
        "  c.append(tam)\n",
        "print(c)\n",
        "x=int(input(\"x=\"))\n",
        "for i in range(n):\n",
        "  if(c[i]==x):\n",
        "    check.append(i)\n",
        "if(len(check)==0):\n",
        "  print(\"Không tìm thấy\")\n",
        "else:\n",
        "  print(\"Vị trí xuất hiện đầu tiên của x là:\",check[0])"
      ],
      "execution_count": 30,
      "outputs": [
        {
          "output_type": "stream",
          "name": "stdout",
          "text": [
            "n=10\n",
            "a=1\n",
            "b=10\n",
            "[6, 2, 9, 4, 4, 7, 5, 3, 3, 7]\n",
            "x=7\n",
            "Vị trí xuất hiện đầu tiên của x là: 5\n"
          ]
        }
      ]
    },
    {
      "cell_type": "code",
      "metadata": {
        "colab": {
          "base_uri": "https://localhost:8080/"
        },
        "id": "JBOPPJxZIZn5",
        "outputId": "03da92a0-e1b3-44f7-adcc-07d750015c8d"
      },
      "source": [
        "import random\n",
        "check=[]\n",
        "c=[]\n",
        "n=int(input(\"n=\"))\n",
        "a=int(input(\"a=\"))\n",
        "b=int(input(\"b=\"))\n",
        "for i in range(n):\n",
        "  tam=random.randrange(a,b)\n",
        "  c.append(tam)\n",
        "print(c)\n",
        "x=int(input(\"x=\"))\n",
        "for i in range(n):\n",
        "  if(c[i]==x):\n",
        "    check.append(i)\n",
        "if(len(check)==0):\n",
        "  print(\"Không tìm thấy\")\n",
        "else:\n",
        "  print(\"Vị trí xuất hiện đầu tiên của x là:\",check[0])\n",
        "  print(\"Số bước lặp để tìm ra phần tử này là:\",check[0]+1)"
      ],
      "execution_count": 23,
      "outputs": [
        {
          "output_type": "stream",
          "name": "stdout",
          "text": [
            "n=10\n",
            "a=10\n",
            "b=20\n",
            "[14, 20, 18, 12, 17, 12, 16, 17, 11, 19]\n",
            "x=12\n",
            "Vị trí xuất hiện đầu tiên của x là: 3\n",
            "Số bước lặp để tìm ra phần tử này là: 4\n"
          ]
        }
      ]
    },
    {
      "cell_type": "code",
      "metadata": {
        "colab": {
          "base_uri": "https://localhost:8080/"
        },
        "id": "YTu1NqylJeQv",
        "outputId": "01c510b0-7cdb-483a-a804-7efa261fc769"
      },
      "source": [
        "import random\n",
        "check=[]\n",
        "c=[]\n",
        "n=int(input(\"n=\"))\n",
        "a=int(input(\"a=\"))\n",
        "b=int(input(\"b=\"))\n",
        "for i in range(n):\n",
        "  tam=random.randint(a,b)\n",
        "  c.append(tam)\n",
        "for i in range(len(c)-1):\n",
        "    for j in range(i+1,len(c)):\n",
        "      if c[i]>c[j]:\n",
        "        c[i],c[j]=c[j],c[i]\n",
        "print(c)\n",
        "x=int(input(\"x=\"))\n",
        "for i in range(n):\n",
        "  if(c[i]==x):\n",
        "    check.append(i)\n",
        "if(len(check)==0):\n",
        "  print(\"Không tìm thấy\")\n",
        "else:\n",
        "  print(\"Vị trí xuất hiện đầu tiên của x là:\",check[0])\n",
        "  print(\"Số bước lặp để tìm ra phần tử này là:\",check[0]+1)"
      ],
      "execution_count": 27,
      "outputs": [
        {
          "output_type": "stream",
          "name": "stdout",
          "text": [
            "n=10\n",
            "a=1\n",
            "b=10\n",
            "[2, 4, 6, 6, 7, 7, 8, 9, 9, 10]\n",
            "x=7\n",
            "Vị trí xuất hiện đầu tiên của x là: 4\n",
            "Số bước lặp để tìm ra phần tử này là: 5\n"
          ]
        }
      ]
    },
    {
      "cell_type": "code",
      "metadata": {
        "colab": {
          "base_uri": "https://localhost:8080/"
        },
        "id": "SnavWaelJ-CH",
        "outputId": "3106e9a7-b92e-4844-a9dd-f34ec19410fb"
      },
      "source": [
        "import random\n",
        "check=[]\n",
        "c=[]\n",
        "n=int(input(\"n=\"))\n",
        "a=int(input(\"a=\"))\n",
        "b=int(input(\"b=\"))\n",
        "for i in range(n):\n",
        "  tam=random.randint(a,b)\n",
        "  c.append(tam)\n",
        "for i in range(len(c)-1):\n",
        "    for j in range(i+1,len(c)):\n",
        "      if c[i]>c[j]:\n",
        "        c[i],c[j]=c[j],c[i]\n",
        "print(c)\n",
        "x=int(input(\"x=\"))\n",
        "for i in range(n):\n",
        "  if(c[i]==x):\n",
        "    check.append(i)\n",
        "if(len(check)==0):\n",
        "  print(\"Không tìm thấy\")\n",
        "else:\n",
        "  for i in range(len(check)):\n",
        "    print(\"Vị trí xuất hiện của x lần\",i+1,\"của x là:\",check[i])\n",
        "    print(\"Số bước lặp để tìm ra phần tử này là:\",check[i]+1)"
      ],
      "execution_count": 34,
      "outputs": [
        {
          "output_type": "stream",
          "name": "stdout",
          "text": [
            "n=10\n",
            "a=1\n",
            "b=10\n",
            "[1, 1, 1, 2, 2, 5, 5, 7, 8, 8]\n",
            "x=2\n",
            "Vị trí xuất hiện của x lần 1 của x là: 3\n",
            "Số bước lặp để tìm ra phần tử này là: 4\n",
            "Vị trí xuất hiện của x lần 2 của x là: 4\n",
            "Số bước lặp để tìm ra phần tử này là: 5\n"
          ]
        }
      ]
    }
  ]
}