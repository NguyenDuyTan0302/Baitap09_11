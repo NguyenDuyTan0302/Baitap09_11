{
  "nbformat": 4,
  "nbformat_minor": 0,
  "metadata": {
    "colab": {
      "name": "Baitap11_11.ipynb",
      "provenance": [],
      "collapsed_sections": [],
      "authorship_tag": "ABX9TyMteQUV0KWinJ9wrJvE1kxe",
      "include_colab_link": true
    },
    "kernelspec": {
      "name": "python3",
      "display_name": "Python 3"
    },
    "language_info": {
      "name": "python"
    }
  },
  "cells": [
    {
      "cell_type": "markdown",
      "metadata": {
        "id": "view-in-github",
        "colab_type": "text"
      },
      "source": [
        "<a href=\"https://colab.research.google.com/github/NguyenDuyTan0302/Baitap09_11/blob/main/Baitap11_11.ipynb\" target=\"_parent\"><img src=\"https://colab.research.google.com/assets/colab-badge.svg\" alt=\"Open In Colab\"/></a>"
      ]
    },
    {
      "cell_type": "code",
      "metadata": {
        "colab": {
          "base_uri": "https://localhost:8080/"
        },
        "id": "b8p_DhRCvVnC",
        "outputId": "84b33712-c732-42ba-89e2-474492c7c8be"
      },
      "source": [
        "vay=int(input(\"số vay:\"))\n",
        "lai=float(input(\"lãi là:\"))\n",
        "nam=float(input(\"số năm là:\"))\n",
        "tra=(vay*lai)/(1-1/(1+lai)**(nam*12))\n",
        "print(\"số tiền trả hàng năm là:\", tra)"
      ],
      "execution_count": 15,
      "outputs": [
        {
          "output_type": "stream",
          "name": "stdout",
          "text": [
            "số vay:500000\n",
            "lãi là:0.015\n",
            "số năm là:1\n",
            "số tiền trả hàng năm là: 45839.99645311472\n"
          ]
        }
      ]
    },
    {
      "cell_type": "code",
      "metadata": {
        "colab": {
          "base_uri": "https://localhost:8080/"
        },
        "id": "tPT0V2dz3OhW",
        "outputId": "511469d7-8dfe-491d-cc7e-c3ccf215d74c"
      },
      "source": [
        "import math\n",
        "x1=float(input(\"tọa độ x1 là:\"))\n",
        "y1=float(input(\"tọa độ y1 là:\"))\n",
        "x2=float(input(\"tọa độ x2 là:\"))\n",
        "y2=float(input(\"tọa độ y2 là:\"))\n",
        "kc=math.sqrt((x1-x2)**2+(y1-y2)**2)\n",
        "print(\"Khoảng cách giữa 2 điểm là:\",kc)\n",
        "\n",
        "\n"
      ],
      "execution_count": 24,
      "outputs": [
        {
          "output_type": "stream",
          "name": "stdout",
          "text": [
            "tọa độ x1 là:2\n",
            "tọa độ y1 là:4\n",
            "tọa độ x2 là:1\n",
            "tọa độ y2 là:3\n",
            "Khoảng cách giữa 2 điểm là: 1.4142135623730951\n"
          ]
        }
      ]
    },
    {
      "cell_type": "markdown",
      "metadata": {
        "id": "Mczswo_T2QO_"
      },
      "source": [
        ""
      ]
    }
  ]
}