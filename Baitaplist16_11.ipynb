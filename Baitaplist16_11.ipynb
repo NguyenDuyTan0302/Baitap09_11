{
  "nbformat": 4,
  "nbformat_minor": 0,
  "metadata": {
    "colab": {
      "name": "Baitaplist16_11.ipynb",
      "provenance": [],
      "authorship_tag": "ABX9TyMGfLFn6SsL2NFx9YZc5623",
      "include_colab_link": true
    },
    "kernelspec": {
      "name": "python3",
      "display_name": "Python 3"
    },
    "language_info": {
      "name": "python"
    }
  },
  "cells": [
    {
      "cell_type": "markdown",
      "metadata": {
        "id": "view-in-github",
        "colab_type": "text"
      },
      "source": [
        "<a href=\"https://colab.research.google.com/github/NguyenDuyTan0302/Baitapolop/blob/main/Baitaplist16_11.ipynb\" target=\"_parent\"><img src=\"https://colab.research.google.com/assets/colab-badge.svg\" alt=\"Open In Colab\"/></a>"
      ]
    },
    {
      "cell_type": "code",
      "metadata": {
        "colab": {
          "base_uri": "https://localhost:8080/"
        },
        "id": "ThOKBjORXqMj",
        "outputId": "f7407502-b4bc-4a8e-be71-5a358a7093df"
      },
      "source": [
        "x=[]\n",
        "x.append(18)\n",
        "x.append(\"Huế\")\n",
        "y = [12, 45, -1, -0.56, \"abc\"]\n",
        "x.extend(y)\n",
        "print(x)\n",
        "print(\"Giá trị phần tử đầu tiên của x:\",x[0])\n",
        "print(\"Giá trị phần tử cuối cùng của x:\",x[-1])\n",
        "print(\"Giá trị của phần tử đầu tiên đến phần tử thứ 5 của x:\",x[0:5])\n",
        "print(\"Giá trị của phần tử thứ 3 đến phần tử cuối cùng:\",x[3:])\n"
      ],
      "execution_count": 6,
      "outputs": [
        {
          "output_type": "stream",
          "name": "stdout",
          "text": [
            "[18, 'Huế', 12, 45, -1, -0.56, 'abc']\n",
            "Giá trị phần tử đầu tiên của x: 18\n",
            "Giá trị phần tử cuối cùng của x: abc\n",
            "Giá trị của phần tử đầu tiên đến phần tử thứ 5 của x: [18, 'Huế', 12, 45, -1]\n",
            "Giá trị của phần tử thứ 3 đến phần tử cuối cùng: [45, -1, -0.56, 'abc']\n"
          ]
        }
      ]
    }
  ]
}