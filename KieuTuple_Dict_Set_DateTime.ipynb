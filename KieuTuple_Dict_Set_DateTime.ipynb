{
  "nbformat": 4,
  "nbformat_minor": 0,
  "metadata": {
    "colab": {
      "name": "KieuTuple_Dict_Set_DateTime.ipynb",
      "provenance": [],
      "authorship_tag": "ABX9TyO1CexxDnMfg9AfVE3+mSTB",
      "include_colab_link": true
    },
    "kernelspec": {
      "name": "python3",
      "display_name": "Python 3"
    },
    "language_info": {
      "name": "python"
    }
  },
  "cells": [
    {
      "cell_type": "markdown",
      "metadata": {
        "id": "view-in-github",
        "colab_type": "text"
      },
      "source": [
        "<a href=\"https://colab.research.google.com/github/NguyenDuyTan0302/Baitap09_11/blob/main/KieuTuple_Dict_Set_DateTime.ipynb\" target=\"_parent\"><img src=\"https://colab.research.google.com/assets/colab-badge.svg\" alt=\"Open In Colab\"/></a>"
      ]
    },
    {
      "cell_type": "code",
      "metadata": {
        "colab": {
          "base_uri": "https://localhost:8080/"
        },
        "id": "Pcf-fkgBcvL-",
        "outputId": "cf9c6fdd-8915-4b06-c928-f135813aa655"
      },
      "source": [
        "tup1=('physics','chemistry',1997,2000)\n",
        "tup2=(1,2,3,4,5,6,7)\n",
        "print(\"tup1[0]:\",tup1[0])\n",
        "print(\"tup2[1:5]:\",tup2[1:5])\n"
      ],
      "execution_count": 1,
      "outputs": [
        {
          "output_type": "stream",
          "name": "stdout",
          "text": [
            "tup1[0]: physics\n",
            "tup2[1:5]: (2, 3, 4, 5)\n"
          ]
        }
      ]
    },
    {
      "cell_type": "code",
      "metadata": {
        "colab": {
          "base_uri": "https://localhost:8080/"
        },
        "id": "JGVgHSModmWL",
        "outputId": "b43c9bbe-eb86-468d-f565-51ce29f561dd"
      },
      "source": [
        "tup1=(12,34.56)\n",
        "tup2=('abc','xyz')\n",
        "tup3=tup1+tup2\n",
        "print(\"tup3:\",tup3)"
      ],
      "execution_count": 4,
      "outputs": [
        {
          "output_type": "stream",
          "name": "stdout",
          "text": [
            "tup3: (12, 34.56, 'abc', 'xyz')\n"
          ]
        }
      ]
    },
    {
      "cell_type": "code",
      "metadata": {
        "colab": {
          "base_uri": "https://localhost:8080/",
          "height": 214
        },
        "id": "ZZYd2TRCd8Hg",
        "outputId": "36d2df77-8893-4edc-b1d0-29d883f1c74d"
      },
      "source": [
        "tup1=('physics','chemistry',1997,2000)\n",
        "print(tup1)\n",
        "del tup1\n",
        "print(\"Sau khi xóa:\",tup1)"
      ],
      "execution_count": 5,
      "outputs": [
        {
          "output_type": "stream",
          "name": "stdout",
          "text": [
            "('physics', 'chemistry', 1997, 2000)\n"
          ]
        },
        {
          "output_type": "error",
          "ename": "NameError",
          "evalue": "ignored",
          "traceback": [
            "\u001b[0;31m---------------------------------------------------------------------------\u001b[0m",
            "\u001b[0;31mNameError\u001b[0m                                 Traceback (most recent call last)",
            "\u001b[0;32m<ipython-input-5-9e67975f9134>\u001b[0m in \u001b[0;36m<module>\u001b[0;34m()\u001b[0m\n\u001b[1;32m      2\u001b[0m \u001b[0mprint\u001b[0m\u001b[0;34m(\u001b[0m\u001b[0mtup1\u001b[0m\u001b[0;34m)\u001b[0m\u001b[0;34m\u001b[0m\u001b[0;34m\u001b[0m\u001b[0m\n\u001b[1;32m      3\u001b[0m \u001b[0;32mdel\u001b[0m \u001b[0mtup1\u001b[0m\u001b[0;34m\u001b[0m\u001b[0;34m\u001b[0m\u001b[0m\n\u001b[0;32m----> 4\u001b[0;31m \u001b[0mprint\u001b[0m\u001b[0;34m(\u001b[0m\u001b[0;34m\"Sau khi xóa:\"\u001b[0m\u001b[0;34m,\u001b[0m\u001b[0mtup1\u001b[0m\u001b[0;34m)\u001b[0m\u001b[0;34m\u001b[0m\u001b[0;34m\u001b[0m\u001b[0m\n\u001b[0m",
            "\u001b[0;31mNameError\u001b[0m: name 'tup1' is not defined"
          ]
        }
      ]
    },
    {
      "cell_type": "code",
      "metadata": {
        "colab": {
          "base_uri": "https://localhost:8080/"
        },
        "id": "ERSR648eeVZ6",
        "outputId": "3af05b0a-eda4-40b1-9e3d-d85bb0cc8519"
      },
      "source": [
        "tup1=(1,2,3)\n",
        "len(tup1)"
      ],
      "execution_count": 10,
      "outputs": [
        {
          "output_type": "execute_result",
          "data": {
            "text/plain": [
              "3"
            ]
          },
          "metadata": {},
          "execution_count": 10
        }
      ]
    },
    {
      "cell_type": "code",
      "metadata": {
        "colab": {
          "base_uri": "https://localhost:8080/"
        },
        "id": "8oUtC8a_fS0R",
        "outputId": "c0fa77aa-65ca-4fee-e2cc-4cc50d5924a5"
      },
      "source": [
        "tup1=(1,2,3)\n",
        "3 in tup1"
      ],
      "execution_count": 11,
      "outputs": [
        {
          "output_type": "execute_result",
          "data": {
            "text/plain": [
              "True"
            ]
          },
          "metadata": {},
          "execution_count": 11
        }
      ]
    },
    {
      "cell_type": "code",
      "metadata": {
        "colab": {
          "base_uri": "https://localhost:8080/"
        },
        "id": "0mAKd0TSfWTg",
        "outputId": "3ed97c0a-35f5-4521-aaa2-fe471974861d"
      },
      "source": [
        "tup1=(1,2,3)\n",
        "tup2=(4,5,6)\n",
        "print(tup1+tup2)\n",
        "print(tup1*3)\n",
        "for x in tup1:print(x)"
      ],
      "execution_count": 12,
      "outputs": [
        {
          "output_type": "stream",
          "name": "stdout",
          "text": [
            "(1, 2, 3, 4, 5, 6)\n",
            "(1, 2, 3, 1, 2, 3, 1, 2, 3)\n",
            "1\n",
            "2\n",
            "3\n"
          ]
        }
      ]
    },
    {
      "cell_type": "code",
      "metadata": {
        "colab": {
          "base_uri": "https://localhost:8080/"
        },
        "id": "jb0h_BdEfe1o",
        "outputId": "adfaef68-7c45-4aeb-db8a-6e8f110039f5"
      },
      "source": [
        "T=('red','yellow','green')\n",
        "print(\"T[2]:\",T[2])\n",
        "print(\"T[-2]:\",T[-2])\n",
        "print(\"T[1:]:\",T[1:])"
      ],
      "execution_count": 14,
      "outputs": [
        {
          "output_type": "stream",
          "name": "stdout",
          "text": [
            "T[2]: green\n",
            "T[-2]: yellow\n",
            "T[1:]: ('yellow', 'green')\n"
          ]
        }
      ]
    },
    {
      "cell_type": "code",
      "metadata": {
        "colab": {
          "base_uri": "https://localhost:8080/"
        },
        "id": "_W-efLqcf-zu",
        "outputId": "435d3ce1-b751-46db-d601-dfbdb5368aa0"
      },
      "source": [
        "t1=(1,2,3)\n",
        "max(t1)"
      ],
      "execution_count": 20,
      "outputs": [
        {
          "output_type": "execute_result",
          "data": {
            "text/plain": [
              "3"
            ]
          },
          "metadata": {},
          "execution_count": 20
        }
      ]
    },
    {
      "cell_type": "code",
      "metadata": {
        "colab": {
          "base_uri": "https://localhost:8080/"
        },
        "id": "lQeGJQxrggf_",
        "outputId": "f439c34b-99ad-47a2-bc5b-a6846810843e"
      },
      "source": [
        "t2=(4,5,6)\n",
        "min(t2)"
      ],
      "execution_count": 21,
      "outputs": [
        {
          "output_type": "execute_result",
          "data": {
            "text/plain": [
              "4"
            ]
          },
          "metadata": {},
          "execution_count": 21
        }
      ]
    },
    {
      "cell_type": "code",
      "metadata": {
        "colab": {
          "base_uri": "https://localhost:8080/"
        },
        "id": "S0hu-Qmtgk4d",
        "outputId": "8445f500-480b-48c9-f5c9-5efc4ac81c5f"
      },
      "source": [
        "l1=[7,8,9,10]\n",
        "tuple(l1)"
      ],
      "execution_count": 22,
      "outputs": [
        {
          "output_type": "execute_result",
          "data": {
            "text/plain": [
              "(7, 8, 9, 10)"
            ]
          },
          "metadata": {},
          "execution_count": 22
        }
      ]
    },
    {
      "cell_type": "code",
      "metadata": {
        "colab": {
          "base_uri": "https://localhost:8080/"
        },
        "id": "kblz4-W-guUt",
        "outputId": "28047e1d-a4bc-4e33-fe6b-657308bbb962"
      },
      "source": [
        "dict1={'name':'Tan','age':18,'class':'k2'}\n",
        "print(\"dict1['name']:\",dict1['name'])\n",
        "print(\"dict1['age']:\",dict1['age'])"
      ],
      "execution_count": 24,
      "outputs": [
        {
          "output_type": "stream",
          "name": "stdout",
          "text": [
            "dict1['name']: Tan\n",
            "dict1['age']: 18\n"
          ]
        }
      ]
    },
    {
      "cell_type": "code",
      "metadata": {
        "colab": {
          "base_uri": "https://localhost:8080/"
        },
        "id": "wWX7jOC-hQhm",
        "outputId": "db6f0497-b47f-4844-d645-400dff8042f6"
      },
      "source": [
        "dict1={'name':'Tan','age':18,'class':'k2'}\n",
        "dict1['age']=19\n",
        "dict1['school']='Khoa KT&CN'\n",
        "print(\"dict1['age']:\",dict1['age'])\n",
        "print(\"dict1['school']:\",dict1['school'])"
      ],
      "execution_count": 25,
      "outputs": [
        {
          "output_type": "stream",
          "name": "stdout",
          "text": [
            "dict1['age']: 19\n",
            "dict1['school']: Khoa KT&CN\n"
          ]
        }
      ]
    },
    {
      "cell_type": "code",
      "metadata": {
        "colab": {
          "base_uri": "https://localhost:8080/",
          "height": 197
        },
        "id": "oaN6IRKphwME",
        "outputId": "44f8e3d2-68cd-4cd9-9897-d79a244bb9b7"
      },
      "source": [
        "dict1={'name':'Tan','age':18,'class':'k2'}\n",
        "del dict1['name']\n",
        "dict1.clear()\n",
        "del dict1\n",
        "print(dict1)"
      ],
      "execution_count": 27,
      "outputs": [
        {
          "output_type": "error",
          "ename": "NameError",
          "evalue": "ignored",
          "traceback": [
            "\u001b[0;31m---------------------------------------------------------------------------\u001b[0m",
            "\u001b[0;31mNameError\u001b[0m                                 Traceback (most recent call last)",
            "\u001b[0;32m<ipython-input-27-a518fd935da7>\u001b[0m in \u001b[0;36m<module>\u001b[0;34m()\u001b[0m\n\u001b[1;32m      3\u001b[0m \u001b[0mdict1\u001b[0m\u001b[0;34m.\u001b[0m\u001b[0mclear\u001b[0m\u001b[0;34m(\u001b[0m\u001b[0;34m)\u001b[0m\u001b[0;34m\u001b[0m\u001b[0;34m\u001b[0m\u001b[0m\n\u001b[1;32m      4\u001b[0m \u001b[0;32mdel\u001b[0m \u001b[0mdict1\u001b[0m\u001b[0;34m\u001b[0m\u001b[0;34m\u001b[0m\u001b[0m\n\u001b[0;32m----> 5\u001b[0;31m \u001b[0mprint\u001b[0m\u001b[0;34m(\u001b[0m\u001b[0mdict1\u001b[0m\u001b[0;34m)\u001b[0m\u001b[0;34m\u001b[0m\u001b[0;34m\u001b[0m\u001b[0m\n\u001b[0m",
            "\u001b[0;31mNameError\u001b[0m: name 'dict1' is not defined"
          ]
        }
      ]
    },
    {
      "cell_type": "code",
      "metadata": {
        "id": "qQ-1c41GiIWq"
      },
      "source": [
        ""
      ],
      "execution_count": null,
      "outputs": []
    },
    {
      "cell_type": "code",
      "metadata": {
        "colab": {
          "base_uri": "https://localhost:8080/"
        },
        "id": "dFYu-ETLiSHD",
        "outputId": "455175e7-3df5-4e40-cf97-f3ae6a7b4490"
      },
      "source": [
        "dict1={'name':'Tan','age':18,'class':'k2'}\n",
        "len(dict1)"
      ],
      "execution_count": 28,
      "outputs": [
        {
          "output_type": "execute_result",
          "data": {
            "text/plain": [
              "3"
            ]
          },
          "metadata": {},
          "execution_count": 28
        }
      ]
    },
    {
      "cell_type": "code",
      "metadata": {
        "colab": {
          "base_uri": "https://localhost:8080/",
          "height": 35
        },
        "id": "VPkTVm_piXLK",
        "outputId": "2e5f8c9b-bc3d-4813-f237-91343e5cf580"
      },
      "source": [
        "dict1={'name':'Tan','age':18,'class':'k2'}\n",
        "str(dict1)"
      ],
      "execution_count": 29,
      "outputs": [
        {
          "output_type": "execute_result",
          "data": {
            "application/vnd.google.colaboratory.intrinsic+json": {
              "type": "string"
            },
            "text/plain": [
              "\"{'name': 'Tan', 'age': 18, 'class': 'k2'}\""
            ]
          },
          "metadata": {},
          "execution_count": 29
        }
      ]
    },
    {
      "cell_type": "code",
      "metadata": {
        "colab": {
          "base_uri": "https://localhost:8080/"
        },
        "id": "rHz6Lptxidhy",
        "outputId": "749cf837-563d-49b6-ad9b-6c4c52f5c46a"
      },
      "source": [
        "dict1={'name':'Tan','age':18,'class':'k2'}\n",
        "dict2={'school':'Khoa KT&CN'}\n",
        "dict1.copy()\n",
        "dict1.get('name')\n",
        "dict1.items()\n",
        "dict1.keys()\n",
        "dict1.update(dict2)\n",
        "print(dict1)\n",
        "dict1.values()"
      ],
      "execution_count": 49,
      "outputs": [
        {
          "output_type": "stream",
          "name": "stdout",
          "text": [
            "{'name': 'Tan', 'age': 18, 'class': 'k2', 'school': 'Khoa KT&CN'}\n"
          ]
        },
        {
          "output_type": "execute_result",
          "data": {
            "text/plain": [
              "dict_values(['Tan', 18, 'k2', 'Khoa KT&CN'])"
            ]
          },
          "metadata": {},
          "execution_count": 49
        }
      ]
    },
    {
      "cell_type": "code",
      "metadata": {
        "colab": {
          "base_uri": "https://localhost:8080/"
        },
        "id": "YvOd0ufIkOdW",
        "outputId": "b77cf287-4c40-4fb8-f08e-faf1df37ae55"
      },
      "source": [
        "set1 = set([\"a\",\"b\",\"c\"])\n",
        "print(\"set1\",set1)\n",
        "set1.add(\"d\")\n",
        "print(\"set1 sau khi thêm:\",set1)"
      ],
      "execution_count": 52,
      "outputs": [
        {
          "output_type": "stream",
          "name": "stdout",
          "text": [
            "set1 {'a', 'b', 'c'}\n",
            "set1 sau khi thêm: {'a', 'b', 'c', 'd'}\n"
          ]
        }
      ]
    },
    {
      "cell_type": "code",
      "metadata": {
        "colab": {
          "base_uri": "https://localhost:8080/"
        },
        "id": "ffpF3wZakxrm",
        "outputId": "9aa28c19-1f27-4af0-c765-4e9bfefd1b8f"
      },
      "source": [
        "people1 = {\"Tân\",\"Trí\",\"Tùng\"}\n",
        "print(\"People:\",people1)\n",
        "people1.add(\"Toàn\")\n",
        "for i in range(1,6):people1.add(i)\n",
        "print(\"People sau khi thêm thành phần:\",people1)\n"
      ],
      "execution_count": 54,
      "outputs": [
        {
          "output_type": "stream",
          "name": "stdout",
          "text": [
            "People: {'Tùng', 'Trí', 'Tân'}\n",
            "People sau khi thêm thành phần: {1, 2, 3, 4, 5, 'Toàn', 'Tân', 'Tùng', 'Trí'}\n"
          ]
        }
      ]
    },
    {
      "cell_type": "code",
      "metadata": {
        "colab": {
          "base_uri": "https://localhost:8080/"
        },
        "id": "v8LZY5wuli80",
        "outputId": "360f6d02-7a35-4835-d779-0f9c4330d43d"
      },
      "source": [
        "Days=set([\"Mon\",\"Tue\",\"Wed\",\"Thu\",\"Fri\",\"Sat\",\"Sun\"])\n",
        "Days.discard(\"Sun\")\n",
        "print(Days)"
      ],
      "execution_count": 55,
      "outputs": [
        {
          "output_type": "stream",
          "name": "stdout",
          "text": [
            "{'Sat', 'Fri', 'Mon', 'Wed', 'Tue', 'Thu'}\n"
          ]
        }
      ]
    },
    {
      "cell_type": "code",
      "metadata": {
        "colab": {
          "base_uri": "https://localhost:8080/"
        },
        "id": "nXb5iZr2mDNh",
        "outputId": "9ce82afa-e5f2-4389-a4c4-44fed698cbbd"
      },
      "source": [
        "set1={1,2,3,4,5,6,7}\n",
        "print(\"set1:\",set1)\n",
        "set1.clear()\n",
        "print(\"set1 sau khi xóa toàn bộ phần tử:\",set1)"
      ],
      "execution_count": 56,
      "outputs": [
        {
          "output_type": "stream",
          "name": "stdout",
          "text": [
            "set1: {1, 2, 3, 4, 5, 6, 7}\n",
            "set1 sau khi xóa toàn bộ phần tử: set()\n"
          ]
        }
      ]
    },
    {
      "cell_type": "code",
      "metadata": {
        "colab": {
          "base_uri": "https://localhost:8080/"
        },
        "id": "TZMbJT-Smadi",
        "outputId": "73dc6cc9-0c99-4dff-e339-b3611fb336dd"
      },
      "source": [
        "people1 = {\"Tân\",\"Trí\",\"Tùng\"}\n",
        "vampires1 = {\"Karan\", \"Arjun\"}\n",
        "draculas1 = {\"Deepanshu\", \"Raju\"}\n",
        "populations1 = people1.union(vampires1)\n",
        "print(\"Union using union() function:\",populations1)\n",
        "populations1 = people1|draculas1\n",
        "print(\"Union using '|' operator:\",populations1)\n"
      ],
      "execution_count": 59,
      "outputs": [
        {
          "output_type": "stream",
          "name": "stdout",
          "text": [
            "Union using union() function: {'Karan', 'Tân', 'Tùng', 'Trí', 'Arjun'}\n",
            "Union using '|' operator: {'Deepanshu', 'Tân', 'Raju', 'Tùng', 'Trí'}\n"
          ]
        }
      ]
    },
    {
      "cell_type": "code",
      "metadata": {
        "colab": {
          "base_uri": "https://localhost:8080/"
        },
        "id": "ZzGQs3ImnM34",
        "outputId": "e9803133-d103-4c48-a6be-fb6032162b29"
      },
      "source": [
        "set1 = set()\n",
        "for i in range(5):set1.add(i)\n",
        "set2 = {3, 4, 5, 6, 7, 8}\n",
        "set3 = set1.intersection(set2)\n",
        "print(\"Intersection using intersection() function:\",set3)\n",
        "set3=set1&set2\n",
        "print(\"Intersection using '&' operator:\",set3)\n",
        "set3 = set1.difference(set2)\n",
        "print(\" Difference of two sets using difference() function:\",set3)\n",
        "set3=set1-set2\n",
        "print(\"Difference of two sets using '-' operator:\",set3)"
      ],
      "execution_count": 61,
      "outputs": [
        {
          "output_type": "stream",
          "name": "stdout",
          "text": [
            "Intersection using intersection() function: {3, 4}\n",
            "Intersection using '&' operator: {3, 4}\n",
            " Difference of two sets using difference() function: {0, 1, 2}\n",
            "Difference of two sets using '-' operator: {0, 1, 2}\n"
          ]
        }
      ]
    },
    {
      "cell_type": "code",
      "metadata": {
        "colab": {
          "base_uri": "https://localhost:8080/"
        },
        "id": "R1qfwZmXnvul",
        "outputId": "ff969bd0-b97e-49ea-d96d-e6ea86362d85"
      },
      "source": [
        "Days1=set([\"Mon\",\"Tue\",\"Wed\"])\n",
        "Days2=set([\"Mon\",\"Tue\",\"Wed\",\"Thu\",\"Fri\",\"Sat\",\"Sun\"])\n",
        "SubsetRes=Days1<=Days2\n",
        "SupersetRes=Days2>=Days1\n",
        "print(SubsetRes)\n",
        "print(SupersetRes)"
      ],
      "execution_count": 64,
      "outputs": [
        {
          "output_type": "stream",
          "name": "stdout",
          "text": [
            "True\n",
            "True\n"
          ]
        }
      ]
    },
    {
      "cell_type": "code",
      "metadata": {
        "colab": {
          "base_uri": "https://localhost:8080/"
        },
        "id": "9LXxgQ3ZoWNv",
        "outputId": "de57e7d5-d53f-4f93-f87d-1c39d8aa0e11"
      },
      "source": [
        "import time;\n",
        "ticks1=time.time()\n",
        "print(\"Số ticks từ 12:00am, January 1, 1970:\", ticks1)\n",
        "localtime1=time.localtime(time.time())\n",
        "print(\"Local curent time:\",localtime1)"
      ],
      "execution_count": 66,
      "outputs": [
        {
          "output_type": "stream",
          "name": "stdout",
          "text": [
            "Số ticks từ 12:00am, January 1, 1970: 1636963696.5935528\n",
            "Local curent time: time.struct_time(tm_year=2021, tm_mon=11, tm_mday=15, tm_hour=8, tm_min=8, tm_sec=16, tm_wday=0, tm_yday=319, tm_isdst=0)\n"
          ]
        }
      ]
    },
    {
      "cell_type": "code",
      "metadata": {
        "colab": {
          "base_uri": "https://localhost:8080/"
        },
        "id": "6FmC2MWknhwu",
        "outputId": "80fd4a3f-791b-4108-ed2d-f8ac66eac36f"
      },
      "source": [
        "import time;\n",
        "localtime1=time.asctime(time.localtime(time.time()))\n",
        "print(\"Local curent time:\",localtime1)"
      ],
      "execution_count": 67,
      "outputs": [
        {
          "output_type": "stream",
          "name": "stdout",
          "text": [
            "Local curent time: Mon Nov 15 08:09:59 2021\n"
          ]
        }
      ]
    },
    {
      "cell_type": "code",
      "metadata": {
        "colab": {
          "base_uri": "https://localhost:8080/"
        },
        "id": "e5wKHu6lpW8j",
        "outputId": "9253bc8c-f4c2-4d59-a536-128c424170d5"
      },
      "source": [
        "import calendar\n",
        "cal11=calendar.month(2021,11)\n",
        "print(\"Lịch tháng 11 năm 2021:\",cal11)"
      ],
      "execution_count": 69,
      "outputs": [
        {
          "output_type": "stream",
          "name": "stdout",
          "text": [
            "Lịch tháng 11 năm 2021:    November 2021\n",
            "Mo Tu We Th Fr Sa Su\n",
            " 1  2  3  4  5  6  7\n",
            " 8  9 10 11 12 13 14\n",
            "15 16 17 18 19 20 21\n",
            "22 23 24 25 26 27 28\n",
            "29 30\n",
            "\n"
          ]
        }
      ]
    }
  ]
}