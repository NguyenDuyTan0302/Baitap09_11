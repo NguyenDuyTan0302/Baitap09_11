{
  "nbformat": 4,
  "nbformat_minor": 0,
  "metadata": {
    "colab": {
      "name": "BaitapHam.ipynb",
      "provenance": [],
      "authorship_tag": "ABX9TyO+1/RaVvPr0iDNOcvSVVr8",
      "include_colab_link": true
    },
    "kernelspec": {
      "name": "python3",
      "display_name": "Python 3"
    },
    "language_info": {
      "name": "python"
    }
  },
  "cells": [
    {
      "cell_type": "markdown",
      "metadata": {
        "id": "view-in-github",
        "colab_type": "text"
      },
      "source": [
        "<a href=\"https://colab.research.google.com/github/NguyenDuyTan0302/Baitapolop/blob/main/BaitapHam.ipynb\" target=\"_parent\"><img src=\"https://colab.research.google.com/assets/colab-badge.svg\" alt=\"Open In Colab\"/></a>"
      ]
    },
    {
      "cell_type": "code",
      "metadata": {
        "colab": {
          "base_uri": "https://localhost:8080/"
        },
        "id": "jXl-gvTdjjmB",
        "outputId": "290e04f7-81d2-4442-f9b3-08c4aebcbb72"
      },
      "source": [
        "def Inthongbao():\n",
        "  print(\"Lập trình Java 2021\")\n",
        "\n",
        "def main():\n",
        "  Inthongbao()\n",
        "  \n",
        "if __name__==\"__main__\":\n",
        "  main()"
      ],
      "execution_count": 1,
      "outputs": [
        {
          "output_type": "stream",
          "name": "stdout",
          "text": [
            "Lập trình Java 2021\n"
          ]
        }
      ]
    },
    {
      "cell_type": "code",
      "metadata": {
        "colab": {
          "base_uri": "https://localhost:8080/"
        },
        "id": "qYUSKUu9j_sA",
        "outputId": "ca0d5b21-f53c-41d9-eed0-11c38969ce7d"
      },
      "source": [
        "def Inchuoi():\n",
        "  st=str(input(\"Chuỗi là:\"))\n",
        "  print(\"In ra:\",st)\n",
        "\n",
        "def main():\n",
        "  Inchuoi()\n",
        "  \n",
        "if __name__==\"__main__\":\n",
        "  main()"
      ],
      "execution_count": 2,
      "outputs": [
        {
          "output_type": "stream",
          "name": "stdout",
          "text": [
            "Chuỗi là:Tân đẹp trai\n",
            "In ra: Tân đẹp trai\n"
          ]
        }
      ]
    },
    {
      "cell_type": "code",
      "metadata": {
        "colab": {
          "base_uri": "https://localhost:8080/"
        },
        "id": "wMmfkHk7kV3A",
        "outputId": "8ed35028-5ae6-4d7e-9cda-304c01567202"
      },
      "source": [
        "def Inchuoi():\n",
        "  n=int(input(\"n=\"))\n",
        "  if(n>0):\n",
        "    st=str(input(\"Chuỗi là:\"))\n",
        "    for i in range(n):\n",
        "      print(\"In ra:\",st)\n",
        "  else:\n",
        "    print(\"Số n không thỏa\")\n",
        "    return Inchuoi()\n",
        "\n",
        "def main():\n",
        "  Inchuoi()\n",
        "  \n",
        "if __name__==\"__main__\":\n",
        "  main()"
      ],
      "execution_count": 6,
      "outputs": [
        {
          "output_type": "stream",
          "name": "stdout",
          "text": [
            "n=-2\n",
            "Số n không thỏa\n",
            "n=2\n",
            "Chuỗi là:Tân Đẹp Trai\n",
            "In ra: Tân Đẹp Trai\n",
            "In ra: Tân Đẹp Trai\n"
          ]
        }
      ]
    },
    {
      "cell_type": "code",
      "metadata": {
        "colab": {
          "base_uri": "https://localhost:8080/"
        },
        "id": "NazshB_YlrWl",
        "outputId": "5c5adfa1-39d2-4698-e017-40721be52273"
      },
      "source": [
        "def GiaiPt():\n",
        "  a=float(input(\"Tham số a=\"))\n",
        "  b=float(input(\"Tham số b=\"))\n",
        "  if(a==0)and(b==0):\n",
        "    print(\"Phương trình có vô số nghiệm\")\n",
        "  elif(a==0):\n",
        "    print(\"Phương trình vô nghiệm\")\n",
        "  else:\n",
        "    print(\"Phương trình có nghiệm x=\",-b/a)\n",
        "\n",
        "def main():\n",
        "  GiaiPt()\n",
        "  \n",
        "if __name__==\"__main__\":\n",
        "  main()"
      ],
      "execution_count": 14,
      "outputs": [
        {
          "output_type": "stream",
          "name": "stdout",
          "text": [
            "Tham số a=0\n",
            "Tham số b=0\n",
            "Phương trình có dạng: 0.0 x+ 0.0 =0\n",
            "Phương trình có vô số nghiệm\n"
          ]
        }
      ]
    },
    {
      "cell_type": "code",
      "metadata": {
        "colab": {
          "base_uri": "https://localhost:8080/"
        },
        "id": "BtTiOyq4na2B",
        "outputId": "fbbbd552-759b-4115-8c8c-692cdcf182ea"
      },
      "source": [
        "import math\n",
        "def GiaiPt2():\n",
        "  a=float(input(\"Tham số a=\"))\n",
        "  b=float(input(\"Tham số b=\"))\n",
        "  c=float(input(\"Tham số c=\"))\n",
        "  if a == 0:\n",
        "    if b == 0:\n",
        "      if c == 0:\n",
        "        print(\"Phương trình có vô số nghiệm\")\n",
        "      else:\n",
        "        print(\"Phương trình vô nghiệm\")\n",
        "    else:\n",
        "      print(\"Phương trình có 1 nghiệm x= \", -c/b)\n",
        "  else:\n",
        "    delta = b*b - 4*a*c\n",
        "    if delta < 0:\n",
        "      print(\"Phương trình vô nghiệm\")\n",
        "    else:\n",
        "      if delta == 0:\n",
        "        print(\"Phương trình có 1 nghiệm x= \", -b/(2*a))\n",
        "      else:\n",
        "        print(\"Phương trình có 2 nghiệm phân biệt:\")\n",
        "        print(\"x1 = \",(-b + math.sqrt(delta))/(2*a))\n",
        "        print(\"x2 = \",(-b - math.sqrt(delta))/(2*a))\n",
        "def main():\n",
        "  GiaiPt2()\n",
        "  \n",
        "if __name__==\"__main__\":\n",
        "  main()"
      ],
      "execution_count": 20,
      "outputs": [
        {
          "output_type": "stream",
          "name": "stdout",
          "text": [
            "Tham số a=1\n",
            "Tham số b=-3\n",
            "Tham số c=2\n",
            "Phương trình có 2 nghiệm phân biệt:\n",
            "x1 =  2.0\n",
            "x2 =  1.0\n"
          ]
        }
      ]
    },
    {
      "cell_type": "code",
      "metadata": {
        "colab": {
          "base_uri": "https://localhost:8080/"
        },
        "id": "YPZIku4Ul4oq",
        "outputId": "5b7c5401-f7a7-4fad-f90a-ce065c542592"
      },
      "source": [
        "import math\n",
        "def GiaiPt():\n",
        "  a=float(input(\"Tham số a=\"))\n",
        "  b=float(input(\"Tham số b=\"))\n",
        "  if(a==0)and(b==0):\n",
        "    print(\"Phương trình có vô số nghiệm\")\n",
        "  elif(a==0):\n",
        "    print(\"Phương trình vô nghiệm\")\n",
        "  else:\n",
        "    print(\"Phương trình có nghiệm x=\",-b/a)\n",
        "def GiaiPt2():\n",
        "  a=float(input(\"Tham số a=\"))\n",
        "  b=float(input(\"Tham số b=\"))\n",
        "  c=float(input(\"Tham số c=\"))\n",
        "  if a == 0:\n",
        "    if b == 0:\n",
        "      if c == 0:\n",
        "        print(\"Phương trình có vô số nghiệm\")\n",
        "      else:\n",
        "        print(\"Phương trình vô nghiệm\")\n",
        "    else:\n",
        "      print(\"Phương trình có 1 nghiệm x= \", -c/b)\n",
        "  else:\n",
        "    delta = b*b - 4*a*c\n",
        "    if delta < 0:\n",
        "      print(\"Phương trình vô nghiệm\")\n",
        "    else:\n",
        "      if delta == 0:\n",
        "        print(\"Phương trình có 1 nghiệm x= \", -b/(2*a))\n",
        "      else:\n",
        "        print(\"Phương trình có 2 nghiệm phân biệt:\")\n",
        "        print(\"x1 = \",(-b + math.sqrt(delta))/(2*a))\n",
        "        print(\"x2 = \",(-b - math.sqrt(delta))/(2*a)) \n",
        "\n",
        "def main():\n",
        "  check=int(input(\"Bạn muốn giải phương trình bậc mấy (1/2):\"))\n",
        "  if check==1:\n",
        "    GiaiPt()\n",
        "  else:\n",
        "    GiaiPt2()\n",
        "  \n",
        "if __name__==\"__main__\":\n",
        "  main()"
      ],
      "execution_count": 22,
      "outputs": [
        {
          "output_type": "stream",
          "name": "stdout",
          "text": [
            "Bạn muốn giải phương trình bậc mấy (1/2):2\n",
            "Tham số a=1\n",
            "Tham số b=-3\n",
            "Tham số c=2\n",
            "Phương trình có 2 nghiệm phân biệt:\n",
            "x1 =  2.0\n",
            "x2 =  1.0\n"
          ]
        }
      ]
    },
    {
      "cell_type": "code",
      "metadata": {
        "colab": {
          "base_uri": "https://localhost:8080/"
        },
        "id": "3G4MAP-UnkXg",
        "outputId": "de4182f3-7563-44a7-9e20-a249d4d7ddd5"
      },
      "source": [
        "import math\n",
        "def GiaiPt():\n",
        "  a=float(input(\"Tham số a=\"))\n",
        "  b=float(input(\"Tham số b=\"))\n",
        "  if(a==0)and(b==0):\n",
        "    print(\"Phương trình có vô số nghiệm\")\n",
        "  elif(a==0):\n",
        "    print(\"Phương trình vô nghiệm\")\n",
        "  else:\n",
        "    print(\"Phương trình có nghiệm x=\",-b/a)\n",
        "def GiaiPt2():\n",
        "  a=float(input(\"Tham số a=\"))\n",
        "  b=float(input(\"Tham số b=\"))\n",
        "  c=float(input(\"Tham số c=\"))\n",
        "  if a == 0:\n",
        "    if b == 0:\n",
        "      if c == 0:\n",
        "        print(\"Phương trình có vô số nghiệm\")\n",
        "      else:\n",
        "        print(\"Phương trình vô nghiệm\")\n",
        "    else:\n",
        "      print(\"Phương trình có 1 nghiệm x= \", -c/b)\n",
        "  else:\n",
        "    delta = b*b - 4*a*c\n",
        "    if delta < 0:\n",
        "      print(\"Phương trình vô nghiệm\")\n",
        "    else:\n",
        "      if delta == 0:\n",
        "        print(\"Phương trình có 1 nghiệm x= \", -b/(2*a))\n",
        "      else:\n",
        "        print(\"Phương trình có 2 nghiệm phân biệt:\")\n",
        "        print(\"x1 = \",(-b + math.sqrt(delta))/(2*a))\n",
        "        print(\"x2 = \",(-b - math.sqrt(delta))/(2*a)) \n",
        "\n",
        "def main():\n",
        "  Tt=True\n",
        "  while Tt:\n",
        "    Hoi=int(input(\"Bạn muốn giải phương trình bậc mấy (1/2):\"))\n",
        "    if Hoi==1:\n",
        "      GiaiPt()\n",
        "      check=input(\"Bạn có muốn tiếp tục (Y/N):\")\n",
        "      if check==\"Y\" or check==\"y\":\n",
        "        Tt=True\n",
        "      else:\n",
        "        Tt=False\n",
        "    else:\n",
        "      GiaiPt2()\n",
        "      check=input(\"Bạn có muốn tiếp tục (Y/N):\")\n",
        "      if check==\"Y\" or check==\"y\":\n",
        "        Tt=True\n",
        "      else:\n",
        "        Tt=False\n",
        "  \n",
        "if __name__==\"__main__\":\n",
        "  main()\n",
        "  print(\"Hoàn thành\")"
      ],
      "execution_count": 25,
      "outputs": [
        {
          "output_type": "stream",
          "name": "stdout",
          "text": [
            "Bạn muốn giải phương trình bậc mấy (1/2):1\n",
            "Tham số a=2\n",
            "Tham số b=3\n",
            "Phương trình có nghiệm x= -1.5\n",
            "Bạn có muốn tiếp tục (Y/N):Y\n",
            "Bạn muốn giải phương trình bậc mấy (1/2):2\n",
            "Tham số a=1\n",
            "Tham số b=-3\n",
            "Tham số c=2\n",
            "Phương trình có 2 nghiệm phân biệt:\n",
            "x1 =  2.0\n",
            "x2 =  1.0\n",
            "Bạn có muốn tiếp tục (Y/N):N\n",
            "Hoàn thành\n"
          ]
        }
      ]
    }
  ]
}