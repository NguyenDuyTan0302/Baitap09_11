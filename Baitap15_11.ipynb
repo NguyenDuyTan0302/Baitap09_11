{
  "nbformat": 4,
  "nbformat_minor": 0,
  "metadata": {
    "colab": {
      "name": "Baitap15_11.ipynb",
      "provenance": [],
      "authorship_tag": "ABX9TyNzNsCo61q58iON19F13h8j",
      "include_colab_link": true
    },
    "kernelspec": {
      "name": "python3",
      "display_name": "Python 3"
    },
    "language_info": {
      "name": "python"
    }
  },
  "cells": [
    {
      "cell_type": "markdown",
      "metadata": {
        "id": "view-in-github",
        "colab_type": "text"
      },
      "source": [
        "<a href=\"https://colab.research.google.com/github/NguyenDuyTan0302/Baitapolop/blob/main/Baitap15_11.ipynb\" target=\"_parent\"><img src=\"https://colab.research.google.com/assets/colab-badge.svg\" alt=\"Open In Colab\"/></a>"
      ]
    },
    {
      "cell_type": "code",
      "metadata": {
        "colab": {
          "base_uri": "https://localhost:8080/"
        },
        "id": "ZvWnc5W7uTwb",
        "outputId": "a31cf108-b153-41a7-bc79-5f05f45caeef"
      },
      "source": [
        "list1=[1,2,3,4,5,6,7,8,9,10]\n",
        "sum(list1)"
      ],
      "execution_count": 26,
      "outputs": [
        {
          "output_type": "execute_result",
          "data": {
            "text/plain": [
              "55"
            ]
          },
          "metadata": {},
          "execution_count": 26
        }
      ]
    },
    {
      "cell_type": "code",
      "metadata": {
        "colab": {
          "base_uri": "https://localhost:8080/"
        },
        "id": "8mTvjuFNwzql",
        "outputId": "20e9d708-28ad-4959-bf92-e82035c6e664"
      },
      "source": [
        "list1=[1,2,3,4,5,6,7,8,9,10]\n",
        "tich=1\n",
        "for x in list1:\n",
        " tich*=x\n",
        "print(tich)"
      ],
      "execution_count": 32,
      "outputs": [
        {
          "output_type": "stream",
          "name": "stdout",
          "text": [
            "3628800\n"
          ]
        }
      ]
    },
    {
      "cell_type": "code",
      "metadata": {
        "colab": {
          "base_uri": "https://localhost:8080/"
        },
        "id": "kzXVdUK8vN6f",
        "outputId": "42babf1f-fb14-4c63-e341-560e80f078b4"
      },
      "source": [
        "list1=[1,2,3,4,5,6,7,8,9,10]\n",
        "max(list1)"
      ],
      "execution_count": 5,
      "outputs": [
        {
          "output_type": "execute_result",
          "data": {
            "text/plain": [
              "10"
            ]
          },
          "metadata": {},
          "execution_count": 5
        }
      ]
    },
    {
      "cell_type": "code",
      "metadata": {
        "colab": {
          "base_uri": "https://localhost:8080/"
        },
        "id": "igaLhNTSvX5e",
        "outputId": "fab8e345-60f8-4aa1-d290-b49fe4e67c4a"
      },
      "source": [
        "list1=[1,2,3,4,5,6,7,8,9,10]\n",
        "min(list1)"
      ],
      "execution_count": 6,
      "outputs": [
        {
          "output_type": "execute_result",
          "data": {
            "text/plain": [
              "1"
            ]
          },
          "metadata": {},
          "execution_count": 6
        }
      ]
    },
    {
      "cell_type": "code",
      "metadata": {
        "colab": {
          "base_uri": "https://localhost:8080/"
        },
        "id": "KqZbg9aiva1V",
        "outputId": "1f64469a-b939-476e-df18-9604e22ed3c6"
      },
      "source": [
        "list1=[10,9,8,7,6,5,4,3,2,1]\n",
        "list1.sort()\n",
        "print(list1)"
      ],
      "execution_count": 16,
      "outputs": [
        {
          "output_type": "stream",
          "name": "stdout",
          "text": [
            "[1, 2, 3, 4, 5, 6, 7, 8, 9, 10]\n"
          ]
        }
      ]
    },
    {
      "cell_type": "code",
      "metadata": {
        "colab": {
          "base_uri": "https://localhost:8080/"
        },
        "id": "i40a78Eqxn-p",
        "outputId": "0f7e4b24-4540-4f43-ccf0-21c61043ff66"
      },
      "source": [
        "list1=[10,9,8,7,6,5,4,3,2,1]\n",
        "list1.sort()\n",
        "list1.reverse()\n",
        "print(list1)"
      ],
      "execution_count": 17,
      "outputs": [
        {
          "output_type": "stream",
          "name": "stdout",
          "text": [
            "[10, 9, 8, 7, 6, 5, 4, 3, 2, 1]\n"
          ]
        }
      ]
    },
    {
      "cell_type": "code",
      "metadata": {
        "colab": {
          "base_uri": "https://localhost:8080/"
        },
        "id": "FzYSHfKIvzam",
        "outputId": "c8607344-dcaf-4077-892c-3a6dae92adc4"
      },
      "source": [
        "list1=[1,2,3,4,5,6,7,8,9,10]\n",
        "len(list1)"
      ],
      "execution_count": 18,
      "outputs": [
        {
          "output_type": "execute_result",
          "data": {
            "text/plain": [
              "10"
            ]
          },
          "metadata": {},
          "execution_count": 18
        }
      ]
    },
    {
      "cell_type": "code",
      "metadata": {
        "colab": {
          "base_uri": "https://localhost:8080/"
        },
        "id": "eq7J50K7wYEk",
        "outputId": "74e47a4e-c331-48f7-d1d4-efe39b7257b2"
      },
      "source": [
        "import random\n",
        "list1=[1,2,3,4,5,6,7,8,9,10]\n",
        "random.choice(list1)"
      ],
      "execution_count": 21,
      "outputs": [
        {
          "output_type": "execute_result",
          "data": {
            "text/plain": [
              "3"
            ]
          },
          "metadata": {},
          "execution_count": 21
        }
      ]
    },
    {
      "cell_type": "code",
      "metadata": {
        "colab": {
          "base_uri": "https://localhost:8080/"
        },
        "id": "rUyH1w_zyFUx",
        "outputId": "9244af99-4824-44c0-9e6f-65a59eed5200"
      },
      "source": [
        "list1=[1,2,3,4,5]\n",
        "list2=[6,7,8,9,10]\n",
        "list1.extend(list2)\n",
        "print(list1)"
      ],
      "execution_count": 22,
      "outputs": [
        {
          "output_type": "stream",
          "name": "stdout",
          "text": [
            "[1, 2, 3, 4, 5, 6, 7, 8, 9, 10]\n"
          ]
        }
      ]
    }
  ]
}