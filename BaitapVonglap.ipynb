{
  "nbformat": 4,
  "nbformat_minor": 0,
  "metadata": {
    "colab": {
      "name": "BaitapVonglap.ipynb",
      "provenance": [],
      "authorship_tag": "ABX9TyNHVGmnu0XoOauudBqU3MT2",
      "include_colab_link": true
    },
    "kernelspec": {
      "name": "python3",
      "display_name": "Python 3"
    },
    "language_info": {
      "name": "python"
    }
  },
  "cells": [
    {
      "cell_type": "markdown",
      "metadata": {
        "id": "view-in-github",
        "colab_type": "text"
      },
      "source": [
        "<a href=\"https://colab.research.google.com/github/NguyenDuyTan0302/Baitapolop/blob/main/BaitapVonglap.ipynb\" target=\"_parent\"><img src=\"https://colab.research.google.com/assets/colab-badge.svg\" alt=\"Open In Colab\"/></a>"
      ]
    },
    {
      "cell_type": "code",
      "metadata": {
        "colab": {
          "base_uri": "https://localhost:8080/"
        },
        "id": "ZhKK6ryE8saj",
        "outputId": "b81e18a6-2977-4d31-aaf1-8f27a6022c09"
      },
      "source": [
        "for i in range(10):\n",
        "  print(i)"
      ],
      "execution_count": 1,
      "outputs": [
        {
          "output_type": "stream",
          "name": "stdout",
          "text": [
            "0\n",
            "1\n",
            "2\n",
            "3\n",
            "4\n",
            "5\n",
            "6\n",
            "7\n",
            "8\n",
            "9\n"
          ]
        }
      ]
    },
    {
      "cell_type": "code",
      "metadata": {
        "colab": {
          "base_uri": "https://localhost:8080/"
        },
        "id": "1zSLVuvY9ABE",
        "outputId": "d42cf00b-3f2a-45f5-ad4f-b6c2ce0c3b30"
      },
      "source": [
        "n=[5,4,3,2,1]\n",
        "dem=len(n)\n",
        "for i in range(dem):\n",
        "  print(n)\n",
        "  n.remove(n[0])"
      ],
      "execution_count": 5,
      "outputs": [
        {
          "output_type": "stream",
          "name": "stdout",
          "text": [
            "[5, 4, 3, 2, 1]\n",
            "[4, 3, 2, 1]\n",
            "[3, 2, 1]\n",
            "[2, 1]\n",
            "[1]\n"
          ]
        }
      ]
    },
    {
      "cell_type": "code",
      "metadata": {
        "colab": {
          "base_uri": "https://localhost:8080/"
        },
        "id": "BTue17nz_jhN",
        "outputId": "7db8fbfd-bc95-4bfb-d2ad-77d8c3f9539d"
      },
      "source": [
        "tong=0\n",
        "i=1\n",
        "n=float(input(\"n=\"))\n",
        "if i<=n:\n",
        "  while i<=n:\n",
        "    tong+=i\n",
        "    i+=1\n",
        "else:\n",
        "  while i>=n:\n",
        "    tong+=i\n",
        "    i-=1\n",
        "print(tong)"
      ],
      "execution_count": 9,
      "outputs": [
        {
          "output_type": "stream",
          "name": "stdout",
          "text": [
            "n=-10\n",
            "-54\n"
          ]
        }
      ]
    },
    {
      "cell_type": "code",
      "metadata": {
        "colab": {
          "base_uri": "https://localhost:8080/"
        },
        "id": "KM2PXGXuAoEx",
        "outputId": "c6fced1d-93d2-4e07-8f44-6c8778a92dc5"
      },
      "source": [
        "n=float(input(\"n=\"))\n",
        "for i in range(1,11):\n",
        "  print(\"n*\",i,\"=\",n*i)"
      ],
      "execution_count": 12,
      "outputs": [
        {
          "output_type": "stream",
          "name": "stdout",
          "text": [
            "n=12\n",
            "n* 1 = 12.0\n",
            "n* 2 = 24.0\n",
            "n* 3 = 36.0\n",
            "n* 4 = 48.0\n",
            "n* 5 = 60.0\n",
            "n* 6 = 72.0\n",
            "n* 7 = 84.0\n",
            "n* 8 = 96.0\n",
            "n* 9 = 108.0\n",
            "n* 10 = 120.0\n"
          ]
        }
      ]
    },
    {
      "cell_type": "code",
      "metadata": {
        "colab": {
          "base_uri": "https://localhost:8080/"
        },
        "id": "uZXB0o1bAFC2",
        "outputId": "1dd87ce7-54ee-42e6-de49-8a5d33ade68f"
      },
      "source": [
        "n=[1,2,3,4,5,6,7,8,9,10]\n",
        "for i in range(len(n)):\n",
        "  print(\"n[\",i,\"]=\",n[i])"
      ],
      "execution_count": 19,
      "outputs": [
        {
          "output_type": "stream",
          "name": "stdout",
          "text": [
            "n[ 0 ]= 1\n",
            "n[ 1 ]= 2\n",
            "n[ 2 ]= 3\n",
            "n[ 3 ]= 4\n",
            "n[ 4 ]= 5\n",
            "n[ 5 ]= 6\n",
            "n[ 6 ]= 7\n",
            "n[ 7 ]= 8\n",
            "n[ 8 ]= 9\n",
            "n[ 9 ]= 10\n"
          ]
        }
      ]
    },
    {
      "cell_type": "code",
      "metadata": {
        "colab": {
          "base_uri": "https://localhost:8080/"
        },
        "id": "iBID__fLB2Z3",
        "outputId": "3dadb218-7f3f-4905-bef4-95ed57fe1a74"
      },
      "source": [
        "n=float(input(\"n=\"))\n",
        "m=str(n)\n",
        "if n%1==0:\n",
        "  print(\"Số chữ số của n:\",len(m)-2)\n",
        "else:\n",
        "  print(\"Số chữ số của n:\",len(m)-1)"
      ],
      "execution_count": 67,
      "outputs": [
        {
          "output_type": "stream",
          "name": "stdout",
          "text": [
            "n=123.123\n",
            "Số chữ số của n: 6\n"
          ]
        }
      ]
    },
    {
      "cell_type": "code",
      "metadata": {
        "colab": {
          "base_uri": "https://localhost:8080/"
        },
        "id": "w9ldkf0KFugH",
        "outputId": "062e1875-31c6-4be3-8bef-e262b9dd9785"
      },
      "source": [
        "for i in range(-10,0):\n",
        "  print(i)"
      ],
      "execution_count": 42,
      "outputs": [
        {
          "output_type": "stream",
          "name": "stdout",
          "text": [
            "-10\n",
            "-9\n",
            "-8\n",
            "-7\n",
            "-6\n",
            "-5\n",
            "-4\n",
            "-3\n",
            "-2\n",
            "-1\n"
          ]
        }
      ]
    },
    {
      "cell_type": "code",
      "metadata": {
        "colab": {
          "base_uri": "https://localhost:8080/"
        },
        "id": "Moj2JQI4Hd0S",
        "outputId": "280ae186-9f2a-4136-ada5-cbe3f598c9df"
      },
      "source": [
        "i=1\n",
        "while i<=5:\n",
        "  print(i)\n",
        "  i+=1\n",
        "else:\n",
        "  print(\"done\")\n"
      ],
      "execution_count": 45,
      "outputs": [
        {
          "output_type": "stream",
          "name": "stdout",
          "text": [
            "1\n",
            "2\n",
            "3\n",
            "4\n",
            "5\n",
            "done\n"
          ]
        }
      ]
    },
    {
      "cell_type": "code",
      "metadata": {
        "colab": {
          "base_uri": "https://localhost:8080/"
        },
        "id": "h5n20Dx5H-r8",
        "outputId": "757ba3c1-d7f1-4f18-fb25-5a9c1ec9fbd3"
      },
      "source": [
        "import math\n",
        "n=float(input(\"Giới hạn trên =\"))\n",
        "m=float(input(\"Giới hạn dưới =\"))\n",
        "dem=0\n",
        "while m<=n:\n",
        "  j=2\n",
        "  while j<=math.sqrt(m):\n",
        "    if m%j==0:\n",
        "      dem+=1\n",
        "    j+=1\n",
        "  if dem==0:\n",
        "    print(m,\"Là số nguyên tố\")\n",
        "  m+=1\n",
        "  dem=0"
      ],
      "execution_count": 49,
      "outputs": [
        {
          "output_type": "stream",
          "name": "stdout",
          "text": [
            "Giới hạn trên =12\n",
            "Giới hạn dưới =2\n",
            "2.0 Là số nguyên tố\n",
            "3.0 Là số nguyên tố\n",
            "5.0 Là số nguyên tố\n",
            "7.0 Là số nguyên tố\n",
            "11.0 Là số nguyên tố\n"
          ]
        }
      ]
    },
    {
      "cell_type": "code",
      "metadata": {
        "colab": {
          "base_uri": "https://localhost:8080/"
        },
        "id": "sMFLmM2ILBRJ",
        "outputId": "75d450c4-ef41-4326-de47-7976ddbd1bd7"
      },
      "source": [
        "n=[0,1,0,0,0,0,0,0,0,0]\n",
        "while(n[9]==0):\n",
        "  for i in range(2,10):\n",
        "    n[i]=n[i-1]+n[i-2]\n",
        "print(n)"
      ],
      "execution_count": 59,
      "outputs": [
        {
          "output_type": "stream",
          "name": "stdout",
          "text": [
            "[0, 1, 1, 2, 3, 5, 8, 13, 21, 34]\n"
          ]
        }
      ]
    },
    {
      "cell_type": "code",
      "metadata": {
        "colab": {
          "base_uri": "https://localhost:8080/"
        },
        "id": "2-NI5i_eMZSQ",
        "outputId": "ff3e38f0-3d41-4a62-e725-b7cecd0890e0"
      },
      "source": [
        "n=int(input(\"n=\"))\n",
        "Tich=1\n",
        "for i in range(1,n):\n",
        "  Tich*=i\n",
        "print(\"Giai thừa của n=\",Tich)"
      ],
      "execution_count": 60,
      "outputs": [
        {
          "output_type": "stream",
          "name": "stdout",
          "text": [
            "n=10\n",
            "Giai thừa của n= 362880\n"
          ]
        }
      ]
    },
    {
      "cell_type": "code",
      "metadata": {
        "colab": {
          "base_uri": "https://localhost:8080/"
        },
        "id": "vEMS5P_QNaI1",
        "outputId": "658f2692-40fb-48bc-eabb-3ed08f412352"
      },
      "source": [
        "n=int(input(\"n=\"))\n",
        "m=0\n",
        "while n!=0:\n",
        "  m=m*10+n%10\n",
        "  n=n//10\n",
        "print(\"Số đảo ngược của số đã cho là:\",m)"
      ],
      "execution_count": 64,
      "outputs": [
        {
          "output_type": "stream",
          "name": "stdout",
          "text": [
            "n=123456789\n",
            "Số đảo ngược của số đã cho là: 987654321\n"
          ]
        }
      ]
    },
    {
      "cell_type": "code",
      "metadata": {
        "colab": {
          "base_uri": "https://localhost:8080/"
        },
        "id": "HpWqhjJJOwc3",
        "outputId": "5a79caa6-4e0c-45ea-a670-02d2143c154b"
      },
      "source": [
        "n=[0,1,2,3,4,5,6,7,8,9,10]\n",
        "m=len(n)\n",
        "for i in range(1,m,2):\n",
        "  print(\"Phần tử ở vị trí\",i,\"là:\",n[i])"
      ],
      "execution_count": 65,
      "outputs": [
        {
          "output_type": "stream",
          "name": "stdout",
          "text": [
            "Phần tử ở vị trí 1 là: 1\n",
            "Phần tử ở vị trí 3 là: 3\n",
            "Phần tử ở vị trí 5 là: 5\n",
            "Phần tử ở vị trí 7 là: 7\n",
            "Phần tử ở vị trí 9 là: 9\n"
          ]
        }
      ]
    },
    {
      "cell_type": "code",
      "metadata": {
        "colab": {
          "base_uri": "https://localhost:8080/"
        },
        "id": "NbKNJVj8POF5",
        "outputId": "e96dfc3b-e778-49f5-9f7c-87aeee31b036"
      },
      "source": [
        "n=int(input(\"Nhập số n:\"))\n",
        "for i in range(1,n+1):\n",
        "  print(\"Lập phương của\",i,\"là:\",i*i*i)"
      ],
      "execution_count": 66,
      "outputs": [
        {
          "output_type": "stream",
          "name": "stdout",
          "text": [
            "Nhập số n:10\n",
            "Lập phương của 1 là: 1\n",
            "Lập phương của 2 là: 8\n",
            "Lập phương của 3 là: 27\n",
            "Lập phương của 4 là: 64\n",
            "Lập phương của 5 là: 125\n",
            "Lập phương của 6 là: 216\n",
            "Lập phương của 7 là: 343\n",
            "Lập phương của 8 là: 512\n",
            "Lập phương của 9 là: 729\n",
            "Lập phương của 10 là: 1000\n"
          ]
        }
      ]
    }
  ]
}