{
  "nbformat": 4,
  "nbformat_minor": 0,
  "metadata": {
    "colab": {
      "name": "BaitapDLNC.ipynb",
      "provenance": [],
      "authorship_tag": "ABX9TyOM3AUahK+ivaPh+X6uPctg",
      "include_colab_link": true
    },
    "kernelspec": {
      "name": "python3",
      "display_name": "Python 3"
    },
    "language_info": {
      "name": "python"
    }
  },
  "cells": [
    {
      "cell_type": "markdown",
      "metadata": {
        "id": "view-in-github",
        "colab_type": "text"
      },
      "source": [
        "<a href=\"https://colab.research.google.com/github/NguyenDuyTan0302/Baitapolop/blob/main/BaitapDLNC.ipynb\" target=\"_parent\"><img src=\"https://colab.research.google.com/assets/colab-badge.svg\" alt=\"Open In Colab\"/></a>"
      ]
    },
    {
      "cell_type": "code",
      "metadata": {
        "colab": {
          "base_uri": "https://localhost:8080/"
        },
        "id": "Na6Odz6ZmGoP",
        "outputId": "330f0f12-d585-4795-ff4a-6f1780a56fe3"
      },
      "source": [
        "import math\n",
        "n=int(input(\"n=\"))\n",
        "dic={0:'Lỗi'}\n",
        "for i in range(1,n+1):\n",
        "  dic.update({i:math.log(i)})\n",
        "print(dic)"
      ],
      "execution_count": null,
      "outputs": [
        {
          "output_type": "stream",
          "name": "stdout",
          "text": [
            "n=3\n",
            "{0: 'Lỗi', 1: 0.0, 2: 0.6931471805599453, 3: 1.0986122886681098}\n"
          ]
        }
      ]
    },
    {
      "cell_type": "code",
      "metadata": {
        "colab": {
          "base_uri": "https://localhost:8080/"
        },
        "id": "ZdNgHu1OoB2M",
        "outputId": "90038c1d-af9e-475a-e3df-63570994513e"
      },
      "source": [
        "n=str(input(\"n=\"))\n",
        "n=n.split(',')\n",
        "print(n)"
      ],
      "execution_count": null,
      "outputs": [
        {
          "output_type": "stream",
          "name": "stdout",
          "text": [
            "n=1,2,3,abc,4\n",
            "['1', '2', '3', 'abc', '4']\n"
          ]
        }
      ]
    },
    {
      "cell_type": "code",
      "metadata": {
        "colab": {
          "base_uri": "https://localhost:8080/"
        },
        "id": "gmZ5KIf84MSl",
        "outputId": "8278ef28-00f3-4813-f529-cec42a91b99f"
      },
      "source": [
        "n=str(input(\"n=\"))\n",
        "n=n.split(',')\n",
        "n=tuple(n)\n",
        "print(n)"
      ],
      "execution_count": null,
      "outputs": [
        {
          "output_type": "stream",
          "name": "stdout",
          "text": [
            "n=1,2,3,abc,3\n",
            "('1', '2', '3', 'abc', '3')\n"
          ]
        }
      ]
    },
    {
      "cell_type": "code",
      "metadata": {
        "id": "SPEKrhn557UC",
        "colab": {
          "base_uri": "https://localhost:8080/"
        },
        "outputId": "b9494bf1-b172-4c15-8678-90a2a18a90f5"
      },
      "source": [
        "n=str(input(\"n=\"))\n",
        "n=n.split(' ')\n",
        "print(n)"
      ],
      "execution_count": 8,
      "outputs": [
        {
          "output_type": "stream",
          "name": "stdout",
          "text": [
            "Nhập các phần tử của dãy số cách nhau bởi dấu cách: 1 2 3 abc 4\n",
            "['1', '2', '3', 'abc', '4']\n"
          ]
        }
      ]
    },
    {
      "cell_type": "code",
      "metadata": {
        "colab": {
          "base_uri": "https://localhost:8080/"
        },
        "id": "C3BVUCty4cv8",
        "outputId": "28ac8dee-69fa-4d25-87ff-cffdb961255f"
      },
      "source": [
        "n=[]\n",
        "check=True\n",
        "while check==True:\n",
        "  a=input(\"Nhập các phần tử của danh sách:\")\n",
        "  if(97<=ord(a)) and (ord(a)<=122):\n",
        "    check=False\n",
        "  else:\n",
        "    n.append(a)\n",
        "print(\"Danh sách các số nguyên:\",n)\n",
        "N=int(input(\"Nhập vào số nguyên N=\"))"
      ],
      "execution_count": 11,
      "outputs": [
        {
          "name": "stdout",
          "output_type": "stream",
          "text": [
            "Nhập các phần tử của danh sách:1\n",
            "Nhập các phần tử của danh sách:2\n",
            "Nhập các phần tử của danh sách:3\n",
            "Nhập các phần tử của danh sách:4\n",
            "Nhập các phần tử của danh sách:a\n",
            "Danh sách các số nguyên: ['1', '2', '3', '4']\n",
            "Nhập vào số nguyên N=123\n"
          ]
        }
      ]
    }
  ]
}