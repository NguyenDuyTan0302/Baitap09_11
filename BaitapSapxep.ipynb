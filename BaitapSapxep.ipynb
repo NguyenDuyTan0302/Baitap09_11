{
  "nbformat": 4,
  "nbformat_minor": 0,
  "metadata": {
    "colab": {
      "name": "BaitapSapxep.ipynb",
      "provenance": [],
      "authorship_tag": "ABX9TyOFJBUusji6yeZqNJs42MhT",
      "include_colab_link": true
    },
    "kernelspec": {
      "name": "python3",
      "display_name": "Python 3"
    },
    "language_info": {
      "name": "python"
    }
  },
  "cells": [
    {
      "cell_type": "markdown",
      "metadata": {
        "id": "view-in-github",
        "colab_type": "text"
      },
      "source": [
        "<a href=\"https://colab.research.google.com/github/NguyenDuyTan0302/Baitapolop/blob/main/BaitapSapxep.ipynb\" target=\"_parent\"><img src=\"https://colab.research.google.com/assets/colab-badge.svg\" alt=\"Open In Colab\"/></a>"
      ]
    },
    {
      "cell_type": "code",
      "metadata": {
        "id": "8Hp69ntKzjW6",
        "colab": {
          "base_uri": "https://localhost:8080/"
        },
        "outputId": "a0a838ae-4128-401c-8732-4a17c5d6bf64"
      },
      "source": [
        "n=[]\n",
        "for i in range(10):\n",
        "  tam=int(input())\n",
        "  n.append(tam)\n",
        "for i in range(len(n)-1):\n",
        "  for j in range(i+1,len(n)):8\n",
        "    if n[i]>n[j]:\n",
        "      n[i],n[j]=n[j],n[i]\n",
        "print(\"Danh sách sau khi sắp xếp là:\",n)"
      ],
      "execution_count": null,
      "outputs": [
        {
          "output_type": "stream",
          "name": "stdout",
          "text": [
            "10\n",
            "9\n",
            "8\n",
            "7\n",
            "6\n",
            "5\n",
            "4\n",
            "3\n",
            "2\n",
            "1\n",
            "Danh sách sau khi sắp xếp là: [1, 2, 3, 4, 5, 6, 7, 8, 9, 10]\n"
          ]
        }
      ]
    },
    {
      "cell_type": "code",
      "metadata": {
        "colab": {
          "base_uri": "https://localhost:8080/"
        },
        "id": "tL4Cz7722Iix",
        "outputId": "439c00df-30ac-4fe1-ea19-f41a040cfea9"
      },
      "source": [
        "def ndssn(n):\n",
        "  a=[]\n",
        "  for i in range(n):\n",
        "    tam=int(input())\n",
        "    a.append(tam)\n",
        "  print(\"Danh sách như sau:\",a)\n",
        "  return a\n",
        "def sapxep(n):\n",
        "  for i in range(len(n)-1):\n",
        "    for j in range(i+1,len(n)):\n",
        "      if n[i]>n[j]:\n",
        "        n[i],n[j]=n[j],n[i]\n",
        "  print(\"Danh sách sau khi sắp xếp là:\",n)\n",
        "  return n\n",
        "def main():\n",
        "  sapxep(ndssn(10))\n",
        "if __name__==\"__main__\":\n",
        "  main()"
      ],
      "execution_count": null,
      "outputs": [
        {
          "output_type": "stream",
          "name": "stdout",
          "text": [
            "10\n",
            "9\n",
            "8\n",
            "7\n",
            "6\n",
            "5\n",
            "4\n",
            "3\n",
            "2\n",
            "1\n",
            "Danh sách như sau: [10, 9, 8, 7, 6, 5, 4, 3, 2, 1]\n",
            "Danh sách sau khi sắp xếp là: [1, 2, 3, 4, 5, 6, 7, 8, 9, 10]\n"
          ]
        }
      ]
    },
    {
      "cell_type": "code",
      "metadata": {
        "colab": {
          "base_uri": "https://localhost:8080/"
        },
        "id": "XHwRQzpP6laQ",
        "outputId": "839b1167-6028-4ace-c6a3-55a46e81a95e"
      },
      "source": [
        "a=[]\n",
        "Tt=True\n",
        "while Tt:\n",
        "  tam=float(input(\"Nhập các phần tử của danh sách:\"))\n",
        "  a.append(tam)\n",
        "  check=input(\"Bạn có muốn tiếp tục nhập không(Y/N):\")\n",
        "  if(check==\"n\")or(check==\"N\"):\n",
        "    Tt=False\n",
        "    break\n",
        "for i in range(len(a)-1):\n",
        "  for j in range(i+1,len(a)):\n",
        "    if a[i]<a[j]:\n",
        "      a[i],a[j]=a[j],a[i]\n",
        "print(\"Danh sách sau khi sắp xếp là:\",a)"
      ],
      "execution_count": null,
      "outputs": [
        {
          "output_type": "stream",
          "name": "stdout",
          "text": [
            "Nhập các phần tử của danh sách:1\n",
            "Bạn có muốn tiếp tục nhập không(Y/N):y\n",
            "Nhập các phần tử của danh sách:5\n",
            "Bạn có muốn tiếp tục nhập không(Y/N):y\n",
            "Nhập các phần tử của danh sách:7\n",
            "Bạn có muốn tiếp tục nhập không(Y/N):y\n",
            "Nhập các phần tử của danh sách:9\n",
            "Bạn có muốn tiếp tục nhập không(Y/N):n\n",
            "Danh sách sau khi sắp xếp là: [9.0, 7.0, 5.0, 1.0]\n"
          ]
        }
      ]
    },
    {
      "cell_type": "code",
      "metadata": {
        "colab": {
          "base_uri": "https://localhost:8080/"
        },
        "id": "MpXV0oBh4oL0",
        "outputId": "a77c8ba3-52af-472b-f6f0-c10d62570cb4"
      },
      "source": [
        "def ndssn():\n",
        "  Tt=True\n",
        "  a=[]\n",
        "  while Tt:\n",
        "    tam=float(input(\"Nhập các phần tử của danh sách:\"))\n",
        "    a.append(tam)\n",
        "    check=input(\"Bạn có muốn tiếp tục nhập không(Y/N):\")\n",
        "    if(check==\"n\")or(check==\"N\"):\n",
        "      Tt=False\n",
        "      break\n",
        "  print(\"Danh sách như sau:\",a)\n",
        "  return a\n",
        "def sapxep(n):\n",
        "  for i in range(len(n)-1):\n",
        "    for j in range(i+1,len(n)):\n",
        "      if n[i]<n[j]:\n",
        "        n[i],n[j]=n[j],n[i]\n",
        "  print(\"Danh sách sau khi sắp xếp là:\",n)\n",
        "  return n\n",
        "def main():\n",
        "  sapxep(ndssn())\n",
        "if __name__==\"__main__\":\n",
        "  main()"
      ],
      "execution_count": null,
      "outputs": [
        {
          "output_type": "stream",
          "name": "stdout",
          "text": [
            "Nhập các phần tử của danh sách:19\n",
            "Bạn có muốn tiếp tục nhập không(Y/N):y\n",
            "Nhập các phần tử của danh sách:10\n",
            "Bạn có muốn tiếp tục nhập không(Y/N):y\n",
            "Nhập các phần tử của danh sách:25\n",
            "Bạn có muốn tiếp tục nhập không(Y/N):n\n",
            "Danh sách như sau: [19.0, 10.0, 25.0]\n",
            "Danh sách sau khi sắp xếp là: [25.0, 19.0, 10.0]\n"
          ]
        }
      ]
    },
    {
      "cell_type": "code",
      "metadata": {
        "colab": {
          "base_uri": "https://localhost:8080/"
        },
        "id": "jeZpnsU66TLq",
        "outputId": "ffe2f34b-9438-485e-dc68-a1cced74901a"
      },
      "source": [
        "import random\n",
        "a=[]\n",
        "n=int(input(\"n=\"))\n",
        "max=float(input(\"max=\"))\n",
        "min=float(input(\"min=\"))\n",
        "for i in range(n):\n",
        "  tam=random.randint(min,max)\n",
        "  a.append(tam)\n",
        "check=input(\"Bạn muốn sắp xếp theo chiều tăng dần hay giảm dần(T/G):\")\n",
        "if check==\"T\":\n",
        "  for i in range(len(a)-1):\n",
        "    for j in range(i+1,len(a)):\n",
        "      if a[i]>a[j]:\n",
        "        a[i],a[j]=a[j],a[i]\n",
        "else:\n",
        "  for i in range(len(a)-1):\n",
        "    for j in range(i+1,len(a)):\n",
        "      if a[i]<a[j]:\n",
        "        a[i],a[j]=a[j],a[i]\n",
        "print(\"Danh sách sau khi sắp xếp là:\",a)"
      ],
      "execution_count": null,
      "outputs": [
        {
          "output_type": "stream",
          "name": "stdout",
          "text": [
            "n=10\n",
            "max=100\n",
            "min=1\n",
            "Bạn muốn sắp xếp theo chiều tăng dần hay giảm dần(T/G):G\n",
            "Danh sách sau khi sắp xếp là: [95, 77, 72, 61, 61, 57, 54, 40, 5, 4]\n"
          ]
        }
      ]
    },
    {
      "cell_type": "code",
      "metadata": {
        "colab": {
          "base_uri": "https://localhost:8080/"
        },
        "id": "dbr7Yib5_ycQ",
        "outputId": "473ef54c-41cc-414e-a9e3-888d0ed30871"
      },
      "source": [
        "import random\n",
        "def TaoNgauNhien():\n",
        "  a=[]\n",
        "  n=int(input(\"n=\"))\n",
        "  max=float(input(\"max=\"))\n",
        "  min=float(input(\"min=\"))\n",
        "  for i in range(n):\n",
        "    tam=random.randint(min,max)\n",
        "    a.append(tam)\n",
        "  return a\n",
        "def SapXep(a):\n",
        "  check=input(\"Bạn muốn sắp xếp theo chiều tăng dần hay giảm dần(T/G):\")\n",
        "  if check==\"T\":\n",
        "    for i in range(len(a)-1):\n",
        "      for j in range(i+1,len(a)):\n",
        "        if a[i]>a[j]:\n",
        "          a[i],a[j]=a[j],a[i]\n",
        "  else:\n",
        "    for i in range(len(a)-1):\n",
        "      for j in range(i+1,len(a)):\n",
        "        if a[i]<a[j]:\n",
        "          a[i],a[j]=a[j],a[i]\n",
        "  print(\"Danh sách sau khi sắp xếp là:\",a)\n",
        "  return a\n",
        "def main():\n",
        "  SapXep(TaoNgauNhien())\n",
        "if __name__==\"__main__\":\n",
        "  main()\n"
      ],
      "execution_count": null,
      "outputs": [
        {
          "output_type": "stream",
          "name": "stdout",
          "text": [
            "n=10\n",
            "max=100\n",
            "min=1\n",
            "Bạn muốn sắp xếp theo chiều tăng dần hay giảm dần(T/G):T\n",
            "Danh sách sau khi sắp xếp là: [11, 27, 43, 53, 55, 72, 73, 80, 83, 99]\n"
          ]
        }
      ]
    }
  ]
}