{
  "nbformat": 4,
  "nbformat_minor": 0,
  "metadata": {
    "colab": {
      "name": "BaitapIfElse.ipynb",
      "provenance": [],
      "authorship_tag": "ABX9TyOeIsJ1xfphDW2CrMaNQh9T",
      "include_colab_link": true
    },
    "kernelspec": {
      "name": "python3",
      "display_name": "Python 3"
    },
    "language_info": {
      "name": "python"
    }
  },
  "cells": [
    {
      "cell_type": "markdown",
      "metadata": {
        "id": "view-in-github",
        "colab_type": "text"
      },
      "source": [
        "<a href=\"https://colab.research.google.com/github/NguyenDuyTan0302/Baitapolop/blob/main/BaitapIfElse.ipynb\" target=\"_parent\"><img src=\"https://colab.research.google.com/assets/colab-badge.svg\" alt=\"Open In Colab\"/></a>"
      ]
    },
    {
      "cell_type": "code",
      "metadata": {
        "colab": {
          "base_uri": "https://localhost:8080/"
        },
        "id": "BF-PQc5MobHb",
        "outputId": "e8b142ee-3020-472f-d9d4-b324cf32c222"
      },
      "source": [
        "x=float(input(\"x=\"))\n",
        "if x==0 :\n",
        " print(\"x không dương không âm\")\n",
        "else :\n",
        "  if x>0 :\n",
        "    print(\"x dương\")\n",
        "  else :\n",
        "    print(\"x âm\")"
      ],
      "execution_count": 38,
      "outputs": [
        {
          "output_type": "stream",
          "name": "stdout",
          "text": [
            "x=12\n",
            "x dương\n"
          ]
        }
      ]
    },
    {
      "cell_type": "code",
      "metadata": {
        "colab": {
          "base_uri": "https://localhost:8080/"
        },
        "id": "2herxgPUpdII",
        "outputId": "9a333587-d0e4-4d99-f05b-69c16f955135"
      },
      "source": [
        "x1=float(input(\"x1=\"))\n",
        "x2=float(input(\"x2=\"))\n",
        "x3=float(input(\"x3=\"))\n",
        "max=x1\n",
        "if max < x2:  \n",
        "  max=x2\n",
        "if max < x3:\n",
        "  max=x3\n",
        "print(\"Số lớn nhất là:\",max)"
      ],
      "execution_count": 37,
      "outputs": [
        {
          "output_type": "stream",
          "name": "stdout",
          "text": [
            "x1=13\n",
            "x2=14\n",
            "x3=15\n",
            "số lớn nhất là: 15.0\n"
          ]
        }
      ]
    },
    {
      "cell_type": "code",
      "metadata": {
        "colab": {
          "base_uri": "https://localhost:8080/"
        },
        "id": "ErwaBww1qRwU",
        "outputId": "a975dbd2-ca9a-48ba-c99e-7e73ef2d2090"
      },
      "source": [
        "x=float(input(\"x=\"))\n",
        "if x==0 :\n",
        " print(\"x không dương không âm\")\n",
        "else :\n",
        "  if abs(x)<1 :\n",
        "    if x>0 :\n",
        "      print(\"Số dương nhỏ\")\n",
        "    else :\n",
        "      print(\"Số âm nhỏ\")\n",
        "  else :\n",
        "    if abs(x)<1000000 :\n",
        "      if x>0 :\n",
        "        print(\"Số dương\")\n",
        "      else :\n",
        "        print(\"Số âm\")\n",
        "    else :\n",
        "      if x>0 :\n",
        "        print(\"Số dương lớn\")\n",
        "      else :\n",
        "        print(\"Số âm lớn\")"
      ],
      "execution_count": 16,
      "outputs": [
        {
          "output_type": "stream",
          "name": "stdout",
          "text": [
            "x=-1000001\n",
            "Số âm lớn\n"
          ]
        }
      ]
    },
    {
      "cell_type": "code",
      "metadata": {
        "colab": {
          "base_uri": "https://localhost:8080/"
        },
        "id": "3OLC1SyesDJD",
        "outputId": "0c60e1cd-e579-498f-b744-ad1c2acc25d8"
      },
      "source": [
        "x=int(input(\"x=\"))\n",
        "if x%7==1: print(\"Monday\")\n",
        "if x%7==2: print(\"Tuesday\")\n",
        "if x%7==3: print(\"Wednesday\")\n",
        "if x%7==4: print(\"Thursday\")\n",
        "if x%7==5: print(\"Friday\")\n",
        "if x%7==6: print(\"Saturday\")\n",
        "if x%7==0: print(\"Sunday\")"
      ],
      "execution_count": 19,
      "outputs": [
        {
          "output_type": "stream",
          "name": "stdout",
          "text": [
            "x=24\n",
            "Wednesday\n"
          ]
        }
      ]
    },
    {
      "cell_type": "code",
      "metadata": {
        "colab": {
          "base_uri": "https://localhost:8080/"
        },
        "id": "gvr1V2UKtg_u",
        "outputId": "c0e95979-c22a-4801-c693-0facb8af87af"
      },
      "source": [
        "x1=float(input(\"x1=\"))\n",
        "x2=float(input(\"x2=\"))\n",
        "x1=x1*1000\n",
        "x2=x2*1000\n",
        "if x1//1==x2//1:\n",
        "  print(\"2 số giống nhau đến 3 chữ số thập phân\")\n",
        "else:\n",
        "  print(\"2 số không giống nhau đến 3 chữ số thập phân\")"
      ],
      "execution_count": 36,
      "outputs": [
        {
          "output_type": "stream",
          "name": "stdout",
          "text": [
            "x1=25.123456\n",
            "x2=25.123123\n",
            "2 số giống nhau đến 3 chữ số thập phân\n"
          ]
        }
      ]
    },
    {
      "cell_type": "code",
      "metadata": {
        "colab": {
          "base_uri": "https://localhost:8080/"
        },
        "id": "0fHaVld23JnK",
        "outputId": "620389e8-279d-41ff-8956-e12ba4b630ee"
      },
      "source": [
        "x=123.123\n",
        "print(x//1)"
      ],
      "execution_count": 35,
      "outputs": [
        {
          "output_type": "stream",
          "name": "stdout",
          "text": [
            "123.0\n"
          ]
        }
      ]
    }
  ]
}